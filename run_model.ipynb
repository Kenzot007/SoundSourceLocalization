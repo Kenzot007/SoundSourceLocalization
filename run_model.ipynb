{
 "cells": [
  {
   "cell_type": "code",
   "execution_count": 22,
   "metadata": {},
   "outputs": [],
   "source": [
    "import os\n",
    "os.environ[\"KMP_DUPLICATE_LIB_OK\"] = \"TRUE\"\n",
    "import numpy as np\n",
    "import glob\n",
    "import torch\n",
    "import torch.nn as nn\n",
    "from torch.utils.data import Dataset, DataLoader, random_split\n",
    "import re\n",
    "from tqdm.notebook import tqdm\n",
    "import ipywidgets as widgets\n",
    "widgets.IntProgress(value=50, min=0, max=100)\n",
    "import torch.nn.functional as F\n",
    "import matplotlib.pyplot as plt\n",
    "%matplotlib inline\n",
    "\n",
    "from sklearn.metrics import confusion_matrix, classification_report\n",
    "import seaborn as sns"
   ]
  },
  {
   "cell_type": "markdown",
   "metadata": {},
   "source": [
    "Load Dataset"
   ]
  },
  {
   "cell_type": "code",
   "execution_count": 3,
   "metadata": {},
   "outputs": [],
   "source": [
    "class BinauralCueDataset(Dataset):\n",
    "    def __init__(self, npz_dir, audio_ids=range(1, 701)):\n",
    "        self.dir = npz_dir\n",
    "        pattern = re.compile(r'main_audio_(\\d+)_azi(\\d+)\\.npz')\n",
    "        self.files = []\n",
    "        for f in os.listdir(npz_dir):\n",
    "            if f.endswith('.npz'):\n",
    "                match = pattern.match(f)\n",
    "                if match and int(match.group(1)) in audio_ids:\n",
    "                    self.files.append(f)\n",
    "        self.files.sort()\n",
    "\n",
    "        print(f\"📁 已加载 {len(self.files)} 个 .npz 文件，共 {len(self)} 个样本。\")\n",
    "\n",
    "    def __len__(self):\n",
    "        return len(self.files)\n",
    "\n",
    "    def __getitem__(self, idx):\n",
    "        path = os.path.join(self.dir, self.files[idx])\n",
    "        data = np.load(path)\n",
    "        itd = data[\"itd\"].astype(np.float32)\n",
    "        ild = data[\"ild\"].astype(np.float32)\n",
    "        ic = data[\"ic\"].astype(np.float32)\n",
    "\n",
    "        cue = np.stack([itd, ild, ic], axis=0)  # [3, filters, frames]\n",
    "\n",
    "        # 提取 azimuth label\n",
    "        azimuth = int(re.search(r'azi(\\d+)', self.files[idx]).group(1))\n",
    "        label = azimuth // 5  # 共72类（0-71）\n",
    "\n",
    "        return cue, label"
   ]
  },
  {
   "cell_type": "markdown",
   "metadata": {},
   "source": [
    "Model1"
   ]
  },
  {
   "cell_type": "code",
   "execution_count": 7,
   "metadata": {},
   "outputs": [],
   "source": [
    "class ResBlock(nn.Module):\n",
    "    def __init__(self, in_channels, out_channels, downsample=False):\n",
    "        super().__init__()\n",
    "        stride = 2 if downsample else 1\n",
    "        self.conv1 = nn.Conv2d(in_channels, out_channels, kernel_size=3, padding=1, stride=stride)\n",
    "        self.bn1 = nn.BatchNorm2d(out_channels)\n",
    "        self.relu = nn.ReLU()\n",
    "        self.conv2 = nn.Conv2d(out_channels, out_channels, kernel_size=3, padding=1)\n",
    "        self.bn2 = nn.BatchNorm2d(out_channels)\n",
    "\n",
    "        self.downsample = downsample\n",
    "        if downsample or in_channels != out_channels:\n",
    "            self.shortcut = nn.Sequential(\n",
    "                nn.Conv2d(in_channels, out_channels, kernel_size=1, stride=stride),\n",
    "                nn.BatchNorm2d(out_channels)\n",
    "            )\n",
    "        else:\n",
    "            self.shortcut = nn.Identity()\n",
    "\n",
    "    def forward(self, x):\n",
    "        identity = self.shortcut(x)\n",
    "        out = self.relu(self.bn1(self.conv1(x)))\n",
    "        out = self.bn2(self.conv2(out))\n",
    "        out += identity\n",
    "        return self.relu(out)\n",
    "\n",
    "class AzimuthResNetCNN(nn.Module):\n",
    "    def __init__(self, num_classes=72):\n",
    "        super().__init__()\n",
    "        self.layer0 = nn.Sequential(\n",
    "            nn.Conv2d(3, 32, kernel_size=3, padding=1),\n",
    "            nn.BatchNorm2d(32),\n",
    "            nn.ReLU()\n",
    "        )\n",
    "        self.layer1 = ResBlock(32, 64, downsample=True)\n",
    "        self.layer2 = ResBlock(64, 128, downsample=True)\n",
    "        self.layer3 = ResBlock(128, 128)\n",
    "        self.pool = nn.AdaptiveAvgPool2d((1, 1))\n",
    "        self.dropout = nn.Dropout(0.3)\n",
    "        self.fc = nn.Linear(128, num_classes)\n",
    "\n",
    "    def forward(self, x):\n",
    "        x = self.layer0(x)\n",
    "        x = self.layer1(x)\n",
    "        x = self.layer2(x)\n",
    "        x = self.layer3(x)\n",
    "        x = self.pool(x)        # shape: [B, 128, 1, 1]\n",
    "        x = torch.flatten(x, 1) # shape: [B, 128]\n",
    "        x = self.dropout(x)\n",
    "        return self.fc(x)"
   ]
  },
  {
   "cell_type": "markdown",
   "metadata": {},
   "source": [
    "Model2"
   ]
  },
  {
   "cell_type": "code",
   "execution_count": 28,
   "metadata": {},
   "outputs": [
    {
     "name": "stdout",
     "output_type": "stream",
     "text": [
      "输出维度: torch.Size([8, 72])\n"
     ]
    }
   ],
   "source": [
    "# conv_config = [\n",
    "#     {'in_ch': 32, 'out_ch': 64, 'kernel_size': 5, 'pool': None, 'residual': False},\n",
    "#     {'in_ch': 64, 'out_ch': 64, 'kernel_size': 5, 'pool': None, 'residual': False},\n",
    "# ]\n",
    "\n",
    "\n",
    "\n",
    "# 一维卷积分支：包含 Conv1d 层、BatchNorm1d 和 ReLU 激活\n",
    "class ConvBranch(nn.Module):\n",
    "    def __init__(self, input_channels=32, conv_channels=64, kernel_size=5, stride=1, num_layers=2, use_batchnorm=True):\n",
    "        super(ConvBranch, self).__init__()\n",
    "        layers = []\n",
    "        in_ch = input_channels\n",
    "        for i in range(num_layers):\n",
    "            out_ch = conv_channels\n",
    "            layers.append(nn.Conv1d(in_ch, out_ch, kernel_size, stride, padding=kernel_size//2))\n",
    "            if use_batchnorm:\n",
    "                layers.append(nn.BatchNorm1d(out_ch))\n",
    "            layers.append(nn.ReLU(inplace=True))\n",
    "            in_ch = out_ch\n",
    "        self.conv = nn.Sequential(*layers)\n",
    "    def forward(self, x):\n",
    "        # x: [B, input_channels, L]  （L为时间长度，如44100）\n",
    "        return self.conv(x)         # 输出: [B, conv_channels, L]\n",
    "\n",
    "# 自注意力池化：将可变长度的时间序列特征加权汇聚为一个固定向量\n",
    "class SelfAttentionPooling(nn.Module):\n",
    "    def __init__(self, embed_dim):\n",
    "        super(SelfAttentionPooling, self).__init__()\n",
    "        # 可学习的线性层，用于计算每个时间步的注意力分数\n",
    "        self.attn_score = nn.Linear(embed_dim, 1)\n",
    "    def forward(self, x):\n",
    "        # x: [B, L, embed_dim]  （输入特征需先调换维度到 [时间步, 特征]）\n",
    "        scores = self.attn_score(x)                 # 计算注意力分数: [B, L, 1]\n",
    "        weights = torch.softmax(scores, dim=1)      # 对时间维度做softmax归一化\n",
    "        context = (x * weights).sum(dim=1)          # 加权求和得到上下文向量: [B, embed_dim]\n",
    "        return context\n",
    "\n",
    "# 单个线索分支模块：Conv1D 提取特征 + 注意力池化得到线索表示向量\n",
    "class CueBranch(nn.Module):\n",
    "    def __init__(self, input_channels=32, conv_channels=64, kernel_size=5, stride=1, num_layers=2, embed_dim=None, use_batchnorm=True):\n",
    "        super(CueBranch, self).__init__()\n",
    "        self.conv_net = ConvBranch(input_channels, conv_channels, kernel_size, stride, num_layers, use_batchnorm)\n",
    "        # 设置嵌入维度：若未指定则与卷积输出通道数相同\n",
    "        self.embed_dim = conv_channels if embed_dim is None else embed_dim\n",
    "        # 若需要将卷积输出映射到不同的embed_dim，可添加线性层\n",
    "        if embed_dim is not None and embed_dim != conv_channels:\n",
    "            self.proj = nn.Linear(conv_channels, embed_dim)\n",
    "        else:\n",
    "            self.proj = None\n",
    "        self.attn_pool = SelfAttentionPooling(self.embed_dim)\n",
    "    def forward(self, x):\n",
    "        # x: [B, input_channels, L]\n",
    "        feat = self.conv_net(x)               # 卷积提取特征: [B, conv_channels, L]\n",
    "        feat = feat.transpose(1, 2)           # 调整为 [B, L, conv_channels] 以方便注意力计算\n",
    "        if self.proj is not None:\n",
    "            feat = self.proj(feat)           # 可选：映射到指定的嵌入维度 [B, L, embed_dim]\n",
    "        cue_vector = self.attn_pool(feat)     # 注意力池化得到线索上下文向量: [B, embed_dim]\n",
    "        return cue_vector\n",
    "\n",
    "# 主模型：包含三个线索分支、跨线索自注意力层和最终分类器\n",
    "class SoundLocalizationModel(nn.Module):\n",
    "    def __init__(self, num_classes=72, input_channels_per_cue=32, conv_channels=64, kernel_size=5, stride=1,\n",
    "                 num_layers=2, embed_dim=64, num_heads=4, use_batchnorm=True):\n",
    "        super(SoundLocalizationModel, self).__init__()\n",
    "        # 三个独立的线索分支\n",
    "        self.cue_branches = nn.ModuleList([\n",
    "            CueBranch(input_channels_per_cue, conv_channels, kernel_size, stride, num_layers, embed_dim, use_batchnorm)\n",
    "            for _ in range(3)\n",
    "        ])\n",
    "        # 跨线索多头自注意力层，将 embed_dim 维的3个线索向量作为序列\n",
    "        self.cross_attn = nn.MultiheadAttention(embed_dim, num_heads, batch_first=True)\n",
    "        self.norm = nn.LayerNorm(embed_dim)            # 层归一化，规范注意力输出\n",
    "        # 全连接分类层，将3*embed_dim映射为num_classes（72个方位角类别）\n",
    "        self.fc = nn.Linear(embed_dim * 3, num_classes)\n",
    "    def forward(self, x):\n",
    "        # x: [B, 3, 32, L]  其中3表示三个线索通道 (ITD, ILD, IC)\n",
    "        B, cue_count, C, L = x.shape\n",
    "        assert cue_count == 3, \"模型期望输入包含3个线索通道\"\n",
    "        # 分别通过每个线索分支提取表示向量\n",
    "        cue_vectors = []  # 将收集每个分支输出 [B, embed_dim]\n",
    "        for i, branch in enumerate(self.cue_branches):\n",
    "            cue_input = x[:, i]                   # 取出第 i 个线索: [B, 32, L]\n",
    "            vec = branch(cue_input)               # 得到该线索的表示向量: [B, embed_dim]\n",
    "            cue_vectors.append(vec)\n",
    "        # 将三个线索向量堆叠成序列，形状 [B, 3, embed_dim]\n",
    "        seq = torch.stack(cue_vectors, dim=1)\n",
    "        # 自注意力层：让每个线索向量与其他线索交互得到新的表示\n",
    "        attn_out, _ = self.cross_attn(seq, seq, seq)   # [B, 3, embed_dim]\n",
    "        attn_out = self.norm(attn_out)                 # 层归一化输出\n",
    "        # 将3个线索向量展平为单一向量 [B, 3*embed_dim]\n",
    "        combined = attn_out.reshape(B, -1)\n",
    "        # 全连接分类，输出72维类别分数\n",
    "        logits = self.fc(combined)                     # [B, 72]\n",
    "        # 模型输出为未归一化的得分，可在需要时使用 Softmax 做归一化:\n",
    "        # probs = torch.softmax(logits, dim=1)\n",
    "        return logits\n",
    "\n",
    "# 使用模型示例：创建模型并测试一次前向传播\n",
    "model = SoundLocalizationModel(num_classes=72, input_channels_per_cue=32, conv_channels=64, kernel_size=5,\n",
    "                               stride=1, num_layers=2, embed_dim=64, num_heads=4, use_batchnorm=True)\n",
    "dummy_input = torch.randn(8, 3, 32, 44100)   # 假设批大小B=8\n",
    "output = model(dummy_input)\n",
    "print(\"输出维度:\", output.shape)  # 应为 [8, 72]"
   ]
  },
  {
   "cell_type": "markdown",
   "metadata": {},
   "source": [
    "Model3"
   ]
  },
  {
   "cell_type": "code",
   "execution_count": 6,
   "metadata": {},
   "outputs": [],
   "source": [
    "conv_config = [\n",
    "    {'in_ch': 32, 'out_ch': 64, 'kernel_size': 5, 'pool': None, 'residual': True},\n",
    "    {'in_ch': 64, 'out_ch': 64, 'kernel_size': 5, 'pool': 2, 'residual': True},\n",
    "    {'in_ch': 64, 'out_ch': 128, 'kernel_size': 3, 'pool': None, 'residual': True},\n",
    "    {'in_ch': 128, 'out_ch': 128, 'kernel_size': 3, 'pool': 2, 'residual': True},\n",
    "    {'in_ch': 128, 'out_ch': 256, 'kernel_size': 3, 'pool': None, 'residual': True},\n",
    "    {'in_ch': 256, 'out_ch': 256, 'kernel_size': 3, 'pool': None, 'residual': True},\n",
    "]"
   ]
  },
  {
   "cell_type": "code",
   "execution_count": 24,
   "metadata": {},
   "outputs": [],
   "source": [
    "import torch\n",
    "import torch.nn as nn\n",
    "\n",
    "# Residual Block\n",
    "class ResidualConvLayer(nn.Module):\n",
    "    def __init__(self, in_ch, out_ch, kernel_size, stride=1, pool=None, use_batchnorm=True):\n",
    "        super(ResidualConvLayer, self).__init__()\n",
    "        padding = kernel_size // 2\n",
    "\n",
    "        self.conv1 = nn.Conv1d(in_ch, out_ch, kernel_size, stride, padding=padding)\n",
    "        self.bn1 = nn.BatchNorm1d(out_ch) if use_batchnorm else nn.Identity()\n",
    "        self.relu = nn.ReLU(inplace=True)\n",
    "\n",
    "        self.downsample = None\n",
    "        if in_ch != out_ch:\n",
    "            self.downsample = nn.Conv1d(in_ch, out_ch, kernel_size=1)\n",
    "        self.pool = nn.MaxPool1d(pool, stride=pool) if pool else nn.Identity()\n",
    "\n",
    "    def forward(self, x):\n",
    "        identity = x\n",
    "        out = self.conv1(x)\n",
    "        out = self.bn1(out)\n",
    "\n",
    "        if self.downsample:\n",
    "            identity = self.downsample(identity)\n",
    "        out += identity\n",
    "        out = self.relu(out)\n",
    "        out = self.pool(out)\n",
    "        return out\n",
    "\n",
    "# Basic Block\n",
    "class BasicConvLayer(nn.Module):\n",
    "    def __init__(self, in_ch, out_ch, kernel_size, stride=1, pool=None, use_batchnorm=True):\n",
    "        super(BasicConvLayer, self).__init__()\n",
    "        padding = kernel_size // 2\n",
    "        layers = [\n",
    "            nn.Conv1d(in_ch, out_ch, kernel_size, stride, padding=padding)\n",
    "        ]\n",
    "        if use_batchnorm:\n",
    "            layers.append(nn.BatchNorm1d(out_ch))\n",
    "        layers.append(nn.ReLU(inplace=True))\n",
    "        if pool:\n",
    "            layers.append(nn.MaxPool1d(pool, stride=pool))\n",
    "\n",
    "        self.block = nn.Sequential(*layers)\n",
    "\n",
    "    def forward(self, x):\n",
    "        return self.block(x)\n",
    "\n",
    "\n",
    "# Conv1D for learning binaural cues\n",
    "class ConvBranch(nn.Module):\n",
    "    def __init__(self, conv_config, use_batchnorm=True):\n",
    "        super(ConvBranch, self).__init__()\n",
    "        layers = []\n",
    "\n",
    "        for cfg in conv_config:\n",
    "            layer_cls = ResidualConvLayer if cfg.get(\"residual\", False) else BasicConvLayer\n",
    "            layer = layer_cls(\n",
    "                in_ch = cfg[\"in_ch\"],\n",
    "                out_ch = cfg[\"out_ch\"],\n",
    "                kernel_size = cfg[\"kernel_size\"],\n",
    "                stride = cfg.get(\"stride\", 1),\n",
    "                pool = cfg.get(\"pool\", None),\n",
    "                use_batchnorm = use_batchnorm\n",
    "            )\n",
    "            layers.append(layer)\n",
    "\n",
    "        self.conv = nn.Sequential(*layers)\n",
    "    def forward(self, x):\n",
    "        # x: [B, input_channels, L]  （L为时间长度，如44100）\n",
    "        return self.conv(x)         # output: [B, conv_channels, L]\n",
    "\n",
    "# 自注意力池化：将可变长度的时间序列特征加权汇聚为一个固定向量\n",
    "class SelfAttentionPooling(nn.Module):\n",
    "    def __init__(self, embed_dim):\n",
    "        super(SelfAttentionPooling, self).__init__()\n",
    "        # 可学习的线性层，用于计算每个时间步的注意力分数\n",
    "        self.attn_score = nn.Linear(embed_dim, 1)\n",
    "    def forward(self, x):\n",
    "        # x: [B, L, embed_dim]  （输入特征需先调换维度到 [时间步, 特征]）\n",
    "        scores = self.attn_score(x)                 # 计算注意力分数: [B, L, 1]\n",
    "        weights = torch.softmax(scores, dim=1)      # 对时间维度做softmax归一化\n",
    "        context = (x * weights).sum(dim=1)          # 加权求和得到上下文向量: [B, embed_dim]\n",
    "        return context\n",
    "\n",
    "# 单个线索分支模块：Conv1D 提取特征 + 注意力池化得到线索表示向量\n",
    "class CueBranch(nn.Module):\n",
    "    def __init__(self, conv_config, embed_dim=None, use_batchnorm=True):\n",
    "        super(CueBranch, self).__init__()\n",
    "        # 自动从最后一层卷积中获取输出通道\n",
    "        final_out_ch = conv_config[-1]['out_ch']\n",
    "        self.embed_dim = final_out_ch if embed_dim is None else embed_dim\n",
    "\n",
    "        self.conv_net = ConvBranch(conv_config, use_batchnorm)\n",
    "\n",
    "        # 如果卷积输出维度不等于目标嵌入维度，则加一个线性映射层\n",
    "        self.proj = nn.Linear(final_out_ch, self.embed_dim) if self.embed_dim != final_out_ch else None\n",
    "        self.attn_pool = SelfAttentionPooling(self.embed_dim)\n",
    "\n",
    "    def forward(self, x):\n",
    "        feat = self.conv_net(x)           # 卷积提取特征: [B, C, L]\n",
    "        feat = feat.transpose(1, 2)       # 转换为 [B, L, C]\n",
    "        if self.proj is not None:\n",
    "            feat = self.proj(feat)        # 映射到嵌入维度\n",
    "        cue_vector = self.attn_pool(feat) # 注意力池化\n",
    "        return cue_vector\n",
    "\n",
    "\n",
    "# 主模型：包含三个线索分支、跨线索自注意力层和最终分类器\n",
    "class SoundLocalizationModel(nn.Module):\n",
    "    def __init__(self, conv_config, num_classes=72, embed_dim=256, num_heads=4, use_batchnorm=True):\n",
    "        super(SoundLocalizationModel, self).__init__()\n",
    "        # 三个独立的线索分支\n",
    "        self.cue_branches = nn.ModuleList([\n",
    "            CueBranch(conv_config, embed_dim=embed_dim, use_batchnorm=use_batchnorm)\n",
    "            for _ in range(3)\n",
    "        ])\n",
    "\n",
    "        # 跨线索多头自注意力层，将 embed_dim 维的3个线索向量作为序列\n",
    "        self.cross_attn = nn.MultiheadAttention(embed_dim, num_heads, batch_first=True)\n",
    "        self.norm = nn.LayerNorm(embed_dim)            # 层归一化，规范注意力输出\n",
    "        # 全连接分类层，将3*embed_dim映射为num_classes（72个方位角类别）\n",
    "        # self.dropout = nn.Dropout(p=0.2)\n",
    "        self.fc = nn.Linear(embed_dim * 3, num_classes)\n",
    "    def forward(self, x):\n",
    "        # x: [B, 3, 32, L]  其中3表示三个线索通道 (ITD, ILD, IC)\n",
    "        B, cue_count, C, L = x.shape\n",
    "        assert cue_count == 3, \"模型期望输入包含3个线索通道\"\n",
    "        # 分别通过每个线索分支提取表示向量\n",
    "        cue_vectors = []  # 将收集每个分支输出 [B, embed_dim]\n",
    "        for i, branch in enumerate(self.cue_branches):\n",
    "            cue_input = x[:, i]                   # 取出第 i 个线索: [B, 32, L]\n",
    "            vec = branch(cue_input)               # 得到该线索的表示向量: [B, embed_dim]\n",
    "            cue_vectors.append(vec)\n",
    "        # 将三个线索向量堆叠成序列，形状 [B, 3, embed_dim]\n",
    "        seq = torch.stack(cue_vectors, dim=1)\n",
    "        # 自注意力层：让每个线索向量与其他线索交互得到新的表示\n",
    "        attn_out, _ = self.cross_attn(seq, seq, seq)   # [B, 3, embed_dim]\n",
    "        attn_out = self.norm(attn_out)                 # 层归一化输出\n",
    "        # 将3个线索向量展平为单一向量 [B, 3*embed_dim]\n",
    "        combined = attn_out.reshape(B, -1)\n",
    "        # combined = self.dropout(combined)\n",
    "        # 全连接分类，输出72维类别分数\n",
    "        logits = self.fc(combined)                     # [B, 72]\n",
    "        # 模型输出为未归一化的得分，可在需要时使用 Softmax 做归一化:\n",
    "        # probs = torch.softmax(logits, dim=1)\n",
    "        return logits"
   ]
  },
  {
   "cell_type": "code",
   "execution_count": 9,
   "metadata": {},
   "outputs": [
    {
     "name": "stdout",
     "output_type": "stream",
     "text": [
      "📁 已加载 50400 个 .npz 文件，共 50400 个样本。\n"
     ]
    }
   ],
   "source": [
    "full_dataset = BinauralCueDataset(r\"C:\\Users\\TIANY1\\OneDrive - Trinity College Dublin\\Documents\\SoundSourceLocalization\\features\")\n",
    "train_dataset, val_dataset = random_split(full_dataset, [0.8, 0.2], generator=torch.Generator().manual_seed(42))"
   ]
  },
  {
   "cell_type": "code",
   "execution_count": 25,
   "metadata": {},
   "outputs": [
    {
     "name": "stdout",
     "output_type": "stream",
     "text": [
      "The device type is:  cuda\n"
     ]
    }
   ],
   "source": [
    "# model = AzimuthResNetCNN(num_classes=72)\n",
    "device = torch.device(\"cuda\" if torch.cuda.is_available() else \"cpu\")\n",
    "print(\"The device type is: \", device)\n",
    "model = SoundLocalizationModel(conv_config).to(device)"
   ]
  },
  {
   "cell_type": "code",
   "execution_count": 26,
   "metadata": {},
   "outputs": [],
   "source": [
    "batch_size = 32\n",
    "train_loader = DataLoader(train_dataset, batch_size=batch_size, shuffle=True)\n",
    "val_loader = DataLoader(val_dataset, batch_size=batch_size, shuffle=False)\n",
    "optimizer = torch.optim.AdamW(model.parameters(), lr=2e-3, weight_decay=0.01)\n",
    "criterion = nn.CrossEntropyLoss()"
   ]
  },
  {
   "cell_type": "markdown",
   "metadata": {},
   "source": [
    "Training"
   ]
  },
  {
   "cell_type": "code",
   "execution_count": 27,
   "metadata": {},
   "outputs": [
    {
     "data": {
      "application/vnd.jupyter.widget-view+json": {
       "model_id": "d8acff1b8b6149d0891b0a6142e88d23",
       "version_major": 2,
       "version_minor": 0
      },
      "text/plain": [
       "Epoch 1/20:   0%|          | 0/1260 [00:00<?, ?it/s]"
      ]
     },
     "metadata": {},
     "output_type": "display_data"
    },
    {
     "data": {
      "application/vnd.jupyter.widget-view+json": {
       "model_id": "212ae2b14cfd46f8924a751aeeb49838",
       "version_major": 2,
       "version_minor": 0
      },
      "text/plain": [
       "Evaluating...:   0%|          | 0/315 [00:00<?, ?it/s]"
      ]
     },
     "metadata": {},
     "output_type": "display_data"
    },
    {
     "data": {
      "image/png": "[encoded data removed]",
      "text/plain": [
       "<Figure size 1200x400 with 2 Axes>"
      ]
     },
     "metadata": {},
     "output_type": "display_data"
    },
    {
     "name": "stdout",
     "output_type": "stream",
     "text": [
      "Epoch 1/20: Train Loss=3.4405, Top-1=7.84%, Top-5=66.71% | Evaluation Loss=2.8357, Top-1=14.50%, Top-5=78.43%\n"
     ]
    },
    {
     "data": {
      "application/vnd.jupyter.widget-view+json": {
       "model_id": "debe5992c337457facdd18d49e6984d4",
       "version_major": 2,
       "version_minor": 0
      },
      "text/plain": [
       "Epoch 2/20:   0%|          | 0/1260 [00:00<?, ?it/s]"
      ]
     },
     "metadata": {},
     "output_type": "display_data"
    },
    {
     "ename": "KeyboardInterrupt",
     "evalue": "",
     "output_type": "error",
     "traceback": [
      "\u001b[31m---------------------------------------------------------------------------\u001b[39m",
      "\u001b[31mKeyboardInterrupt\u001b[39m                         Traceback (most recent call last)",
      "\u001b[36mCell\u001b[39m\u001b[36m \u001b[39m\u001b[32mIn[27]\u001b[39m\u001b[32m, line 39\u001b[39m\n\u001b[32m     36\u001b[39m train_total = \u001b[32m0\u001b[39m\n\u001b[32m     38\u001b[39m pbar = tqdm(train_loader, desc=\u001b[33mf\u001b[39m\u001b[33m\"\u001b[39m\u001b[33mEpoch \u001b[39m\u001b[38;5;132;01m{\u001b[39;00mepoch\u001b[38;5;132;01m}\u001b[39;00m\u001b[33m/\u001b[39m\u001b[38;5;132;01m{\u001b[39;00mnum_epochs\u001b[38;5;132;01m}\u001b[39;00m\u001b[33m\"\u001b[39m, leave=\u001b[38;5;28;01mFalse\u001b[39;00m)\n\u001b[32m---> \u001b[39m\u001b[32m39\u001b[39m \u001b[43m\u001b[49m\u001b[38;5;28;43;01mfor\u001b[39;49;00m\u001b[43m \u001b[49m\u001b[43mcue\u001b[49m\u001b[43m,\u001b[49m\u001b[43m \u001b[49m\u001b[43mazi\u001b[49m\u001b[43m \u001b[49m\u001b[38;5;129;43;01min\u001b[39;49;00m\u001b[43m \u001b[49m\u001b[43mpbar\u001b[49m\u001b[43m:\u001b[49m\n\u001b[32m     40\u001b[39m \u001b[43m    \u001b[49m\u001b[43mcue\u001b[49m\u001b[43m,\u001b[49m\u001b[43m \u001b[49m\u001b[43mazi\u001b[49m\u001b[43m \u001b[49m\u001b[43m=\u001b[49m\u001b[43m \u001b[49m\u001b[43mcue\u001b[49m\u001b[43m.\u001b[49m\u001b[43mto\u001b[49m\u001b[43m(\u001b[49m\u001b[43mdevice\u001b[49m\u001b[43m)\u001b[49m\u001b[43m,\u001b[49m\u001b[43m \u001b[49m\u001b[43mazi\u001b[49m\u001b[43m.\u001b[49m\u001b[43mto\u001b[49m\u001b[43m(\u001b[49m\u001b[43mdevice\u001b[49m\u001b[43m)\u001b[49m\n\u001b[32m     41\u001b[39m \u001b[43m    \u001b[49m\u001b[43moptimizer\u001b[49m\u001b[43m.\u001b[49m\u001b[43mzero_grad\u001b[49m\u001b[43m(\u001b[49m\u001b[43m)\u001b[49m\n",
      "\u001b[36mFile \u001b[39m\u001b[32mc:\\Users\\TIANY1\\Miniconda3\\Lib\\site-packages\\tqdm\\notebook.py:250\u001b[39m, in \u001b[36mtqdm_notebook.__iter__\u001b[39m\u001b[34m(self)\u001b[39m\n\u001b[32m    248\u001b[39m \u001b[38;5;28;01mtry\u001b[39;00m:\n\u001b[32m    249\u001b[39m     it = \u001b[38;5;28msuper\u001b[39m().\u001b[34m__iter__\u001b[39m()\n\u001b[32m--> \u001b[39m\u001b[32m250\u001b[39m \u001b[43m    \u001b[49m\u001b[38;5;28;43;01mfor\u001b[39;49;00m\u001b[43m \u001b[49m\u001b[43mobj\u001b[49m\u001b[43m \u001b[49m\u001b[38;5;129;43;01min\u001b[39;49;00m\u001b[43m \u001b[49m\u001b[43mit\u001b[49m\u001b[43m:\u001b[49m\n\u001b[32m    251\u001b[39m \u001b[43m        \u001b[49m\u001b[38;5;66;43;03m# return super(tqdm...) will not catch exception\u001b[39;49;00m\n\u001b[32m    252\u001b[39m \u001b[43m        \u001b[49m\u001b[38;5;28;43;01myield\u001b[39;49;00m\u001b[43m \u001b[49m\u001b[43mobj\u001b[49m\n\u001b[32m    253\u001b[39m \u001b[38;5;66;03m# NB: except ... [ as ...] breaks IPython async KeyboardInterrupt\u001b[39;00m\n",
      "\u001b[36mFile \u001b[39m\u001b[32mc:\\Users\\TIANY1\\Miniconda3\\Lib\\site-packages\\tqdm\\std.py:1181\u001b[39m, in \u001b[36mtqdm.__iter__\u001b[39m\u001b[34m(self)\u001b[39m\n\u001b[32m   1178\u001b[39m time = \u001b[38;5;28mself\u001b[39m._time\n\u001b[32m   1180\u001b[39m \u001b[38;5;28;01mtry\u001b[39;00m:\n\u001b[32m-> \u001b[39m\u001b[32m1181\u001b[39m \u001b[43m    \u001b[49m\u001b[38;5;28;43;01mfor\u001b[39;49;00m\u001b[43m \u001b[49m\u001b[43mobj\u001b[49m\u001b[43m \u001b[49m\u001b[38;5;129;43;01min\u001b[39;49;00m\u001b[43m \u001b[49m\u001b[43miterable\u001b[49m\u001b[43m:\u001b[49m\n\u001b[32m   1182\u001b[39m \u001b[43m        \u001b[49m\u001b[38;5;28;43;01myield\u001b[39;49;00m\u001b[43m \u001b[49m\u001b[43mobj\u001b[49m\n\u001b[32m   1183\u001b[39m \u001b[43m        \u001b[49m\u001b[38;5;66;43;03m# Update and possibly print the progressbar.\u001b[39;49;00m\n\u001b[32m   1184\u001b[39m \u001b[43m        \u001b[49m\u001b[38;5;66;43;03m# Note: does not call self.update(1) for speed optimisation.\u001b[39;49;00m\n",
      "\u001b[36mFile \u001b[39m\u001b[32mc:\\Users\\TIANY1\\Miniconda3\\Lib\\site-packages\\torch\\utils\\data\\dataloader.py:701\u001b[39m, in \u001b[36m_BaseDataLoaderIter.__next__\u001b[39m\u001b[34m(self)\u001b[39m\n\u001b[32m    698\u001b[39m \u001b[38;5;28;01mif\u001b[39;00m \u001b[38;5;28mself\u001b[39m._sampler_iter \u001b[38;5;129;01mis\u001b[39;00m \u001b[38;5;28;01mNone\u001b[39;00m:\n\u001b[32m    699\u001b[39m     \u001b[38;5;66;03m# TODO(https://github.com/pytorch/pytorch/issues/76750)\u001b[39;00m\n\u001b[32m    700\u001b[39m     \u001b[38;5;28mself\u001b[39m._reset()  \u001b[38;5;66;03m# type: ignore[call-arg]\u001b[39;00m\n\u001b[32m--> \u001b[39m\u001b[32m701\u001b[39m data = \u001b[38;5;28;43mself\u001b[39;49m\u001b[43m.\u001b[49m\u001b[43m_next_data\u001b[49m\u001b[43m(\u001b[49m\u001b[43m)\u001b[49m\n\u001b[32m    702\u001b[39m \u001b[38;5;28mself\u001b[39m._num_yielded += \u001b[32m1\u001b[39m\n\u001b[32m    703\u001b[39m \u001b[38;5;28;01mif\u001b[39;00m (\n\u001b[32m    704\u001b[39m     \u001b[38;5;28mself\u001b[39m._dataset_kind == _DatasetKind.Iterable\n\u001b[32m    705\u001b[39m     \u001b[38;5;129;01mand\u001b[39;00m \u001b[38;5;28mself\u001b[39m._IterableDataset_len_called \u001b[38;5;129;01mis\u001b[39;00m \u001b[38;5;129;01mnot\u001b[39;00m \u001b[38;5;28;01mNone\u001b[39;00m\n\u001b[32m    706\u001b[39m     \u001b[38;5;129;01mand\u001b[39;00m \u001b[38;5;28mself\u001b[39m._num_yielded > \u001b[38;5;28mself\u001b[39m._IterableDataset_len_called\n\u001b[32m    707\u001b[39m ):\n",
      "\u001b[36mFile \u001b[39m\u001b[32mc:\\Users\\TIANY1\\Miniconda3\\Lib\\site-packages\\torch\\utils\\data\\dataloader.py:757\u001b[39m, in \u001b[36m_SingleProcessDataLoaderIter._next_data\u001b[39m\u001b[34m(self)\u001b[39m\n\u001b[32m    755\u001b[39m \u001b[38;5;28;01mdef\u001b[39;00m \u001b[34m_next_data\u001b[39m(\u001b[38;5;28mself\u001b[39m):\n\u001b[32m    756\u001b[39m     index = \u001b[38;5;28mself\u001b[39m._next_index()  \u001b[38;5;66;03m# may raise StopIteration\u001b[39;00m\n\u001b[32m--> \u001b[39m\u001b[32m757\u001b[39m     data = \u001b[38;5;28;43mself\u001b[39;49m\u001b[43m.\u001b[49m\u001b[43m_dataset_fetcher\u001b[49m\u001b[43m.\u001b[49m\u001b[43mfetch\u001b[49m\u001b[43m(\u001b[49m\u001b[43mindex\u001b[49m\u001b[43m)\u001b[49m  \u001b[38;5;66;03m# may raise StopIteration\u001b[39;00m\n\u001b[32m    758\u001b[39m     \u001b[38;5;28;01mif\u001b[39;00m \u001b[38;5;28mself\u001b[39m._pin_memory:\n\u001b[32m    759\u001b[39m         data = _utils.pin_memory.pin_memory(data, \u001b[38;5;28mself\u001b[39m._pin_memory_device)\n",
      "\u001b[36mFile \u001b[39m\u001b[32mc:\\Users\\TIANY1\\Miniconda3\\Lib\\site-packages\\torch\\utils\\data\\_utils\\fetch.py:50\u001b[39m, in \u001b[36m_MapDatasetFetcher.fetch\u001b[39m\u001b[34m(self, possibly_batched_index)\u001b[39m\n\u001b[32m     48\u001b[39m \u001b[38;5;28;01mif\u001b[39;00m \u001b[38;5;28mself\u001b[39m.auto_collation:\n\u001b[32m     49\u001b[39m     \u001b[38;5;28;01mif\u001b[39;00m \u001b[38;5;28mhasattr\u001b[39m(\u001b[38;5;28mself\u001b[39m.dataset, \u001b[33m\"\u001b[39m\u001b[33m__getitems__\u001b[39m\u001b[33m\"\u001b[39m) \u001b[38;5;129;01mand\u001b[39;00m \u001b[38;5;28mself\u001b[39m.dataset.__getitems__:\n\u001b[32m---> \u001b[39m\u001b[32m50\u001b[39m         data = \u001b[38;5;28;43mself\u001b[39;49m\u001b[43m.\u001b[49m\u001b[43mdataset\u001b[49m\u001b[43m.\u001b[49m\u001b[43m__getitems__\u001b[49m\u001b[43m(\u001b[49m\u001b[43mpossibly_batched_index\u001b[49m\u001b[43m)\u001b[49m\n\u001b[32m     51\u001b[39m     \u001b[38;5;28;01melse\u001b[39;00m:\n\u001b[32m     52\u001b[39m         data = [\u001b[38;5;28mself\u001b[39m.dataset[idx] \u001b[38;5;28;01mfor\u001b[39;00m idx \u001b[38;5;129;01min\u001b[39;00m possibly_batched_index]\n",
      "\u001b[36mFile \u001b[39m\u001b[32mc:\\Users\\TIANY1\\Miniconda3\\Lib\\site-packages\\torch\\utils\\data\\dataset.py:420\u001b[39m, in \u001b[36mSubset.__getitems__\u001b[39m\u001b[34m(self, indices)\u001b[39m\n\u001b[32m    418\u001b[39m     \u001b[38;5;28;01mreturn\u001b[39;00m \u001b[38;5;28mself\u001b[39m.dataset.__getitems__([\u001b[38;5;28mself\u001b[39m.indices[idx] \u001b[38;5;28;01mfor\u001b[39;00m idx \u001b[38;5;129;01min\u001b[39;00m indices])  \u001b[38;5;66;03m# type: ignore[attr-defined]\u001b[39;00m\n\u001b[32m    419\u001b[39m \u001b[38;5;28;01melse\u001b[39;00m:\n\u001b[32m--> \u001b[39m\u001b[32m420\u001b[39m     \u001b[38;5;28;01mreturn\u001b[39;00m [\u001b[38;5;28;43mself\u001b[39;49m\u001b[43m.\u001b[49m\u001b[43mdataset\u001b[49m\u001b[43m[\u001b[49m\u001b[38;5;28;43mself\u001b[39;49m\u001b[43m.\u001b[49m\u001b[43mindices\u001b[49m\u001b[43m[\u001b[49m\u001b[43midx\u001b[49m\u001b[43m]\u001b[49m\u001b[43m]\u001b[49m \u001b[38;5;28;01mfor\u001b[39;00m idx \u001b[38;5;129;01min\u001b[39;00m indices]\n",
      "\u001b[36mCell\u001b[39m\u001b[36m \u001b[39m\u001b[32mIn[3]\u001b[39m\u001b[32m, line 23\u001b[39m, in \u001b[36mBinauralCueDataset.__getitem__\u001b[39m\u001b[34m(self, idx)\u001b[39m\n\u001b[32m     21\u001b[39m itd = data[\u001b[33m\"\u001b[39m\u001b[33mitd\u001b[39m\u001b[33m\"\u001b[39m].astype(np.float32)\n\u001b[32m     22\u001b[39m ild = data[\u001b[33m\"\u001b[39m\u001b[33mild\u001b[39m\u001b[33m\"\u001b[39m].astype(np.float32)\n\u001b[32m---> \u001b[39m\u001b[32m23\u001b[39m ic = \u001b[43mdata\u001b[49m\u001b[43m[\u001b[49m\u001b[33;43m\"\u001b[39;49m\u001b[33;43mic\u001b[39;49m\u001b[33;43m\"\u001b[39;49m\u001b[43m]\u001b[49m.astype(np.float32)\n\u001b[32m     25\u001b[39m cue = np.stack([itd, ild, ic], axis=\u001b[32m0\u001b[39m)  \u001b[38;5;66;03m# [3, filters, frames]\u001b[39;00m\n\u001b[32m     27\u001b[39m \u001b[38;5;66;03m# 提取 azimuth label\u001b[39;00m\n",
      "\u001b[36mFile \u001b[39m\u001b[32mc:\\Users\\TIANY1\\Miniconda3\\Lib\\site-packages\\numpy\\lib\\_npyio_impl.py:256\u001b[39m, in \u001b[36mNpzFile.__getitem__\u001b[39m\u001b[34m(self, key)\u001b[39m\n\u001b[32m    254\u001b[39m \u001b[38;5;28;01mif\u001b[39;00m magic == \u001b[38;5;28mformat\u001b[39m.MAGIC_PREFIX:\n\u001b[32m    255\u001b[39m     \u001b[38;5;28mbytes\u001b[39m = \u001b[38;5;28mself\u001b[39m.zip.open(key)\n\u001b[32m--> \u001b[39m\u001b[32m256\u001b[39m     \u001b[38;5;28;01mreturn\u001b[39;00m \u001b[38;5;28;43mformat\u001b[39;49m\u001b[43m.\u001b[49m\u001b[43mread_array\u001b[49m\u001b[43m(\u001b[49m\u001b[38;5;28;43mbytes\u001b[39;49m\u001b[43m,\u001b[49m\n\u001b[32m    257\u001b[39m \u001b[43m                             \u001b[49m\u001b[43mallow_pickle\u001b[49m\u001b[43m=\u001b[49m\u001b[38;5;28;43mself\u001b[39;49m\u001b[43m.\u001b[49m\u001b[43mallow_pickle\u001b[49m\u001b[43m,\u001b[49m\n\u001b[32m    258\u001b[39m \u001b[43m                             \u001b[49m\u001b[43mpickle_kwargs\u001b[49m\u001b[43m=\u001b[49m\u001b[38;5;28;43mself\u001b[39;49m\u001b[43m.\u001b[49m\u001b[43mpickle_kwargs\u001b[49m\u001b[43m,\u001b[49m\n\u001b[32m    259\u001b[39m \u001b[43m                             \u001b[49m\u001b[43mmax_header_size\u001b[49m\u001b[43m=\u001b[49m\u001b[38;5;28;43mself\u001b[39;49m\u001b[43m.\u001b[49m\u001b[43mmax_header_size\u001b[49m\u001b[43m)\u001b[49m\n\u001b[32m    260\u001b[39m \u001b[38;5;28;01melse\u001b[39;00m:\n\u001b[32m    261\u001b[39m     \u001b[38;5;28;01mreturn\u001b[39;00m \u001b[38;5;28mself\u001b[39m.zip.read(key)\n",
      "\u001b[36mFile \u001b[39m\u001b[32mc:\\Users\\TIANY1\\Miniconda3\\Lib\\site-packages\\numpy\\lib\\format.py:856\u001b[39m, in \u001b[36mread_array\u001b[39m\u001b[34m(fp, allow_pickle, pickle_kwargs, max_header_size)\u001b[39m\n\u001b[32m    854\u001b[39m             read_count = \u001b[38;5;28mmin\u001b[39m(max_read_count, count - i)\n\u001b[32m    855\u001b[39m             read_size = \u001b[38;5;28mint\u001b[39m(read_count * dtype.itemsize)\n\u001b[32m--> \u001b[39m\u001b[32m856\u001b[39m             data = \u001b[43m_read_bytes\u001b[49m\u001b[43m(\u001b[49m\u001b[43mfp\u001b[49m\u001b[43m,\u001b[49m\u001b[43m \u001b[49m\u001b[43mread_size\u001b[49m\u001b[43m,\u001b[49m\u001b[43m \u001b[49m\u001b[33;43m\"\u001b[39;49m\u001b[33;43marray data\u001b[39;49m\u001b[33;43m\"\u001b[39;49m\u001b[43m)\u001b[49m\n\u001b[32m    857\u001b[39m             array[i:i+read_count] = numpy.frombuffer(data, dtype=dtype,\n\u001b[32m    858\u001b[39m                                                      count=read_count)\n\u001b[32m    860\u001b[39m \u001b[38;5;28;01mif\u001b[39;00m fortran_order:\n",
      "\u001b[36mFile \u001b[39m\u001b[32mc:\\Users\\TIANY1\\Miniconda3\\Lib\\site-packages\\numpy\\lib\\format.py:991\u001b[39m, in \u001b[36m_read_bytes\u001b[39m\u001b[34m(fp, size, error_template)\u001b[39m\n\u001b[32m    986\u001b[39m \u001b[38;5;28;01mwhile\u001b[39;00m \u001b[38;5;28;01mTrue\u001b[39;00m:\n\u001b[32m    987\u001b[39m     \u001b[38;5;66;03m# io files (default in python3) return None or raise on\u001b[39;00m\n\u001b[32m    988\u001b[39m     \u001b[38;5;66;03m# would-block, python2 file will truncate, probably nothing can be\u001b[39;00m\n\u001b[32m    989\u001b[39m     \u001b[38;5;66;03m# done about that.  note that regular files can't be non-blocking\u001b[39;00m\n\u001b[32m    990\u001b[39m     \u001b[38;5;28;01mtry\u001b[39;00m:\n\u001b[32m--> \u001b[39m\u001b[32m991\u001b[39m         r = \u001b[43mfp\u001b[49m\u001b[43m.\u001b[49m\u001b[43mread\u001b[49m\u001b[43m(\u001b[49m\u001b[43msize\u001b[49m\u001b[43m \u001b[49m\u001b[43m-\u001b[49m\u001b[43m \u001b[49m\u001b[38;5;28;43mlen\u001b[39;49m\u001b[43m(\u001b[49m\u001b[43mdata\u001b[49m\u001b[43m)\u001b[49m\u001b[43m)\u001b[49m\n\u001b[32m    992\u001b[39m         data += r\n\u001b[32m    993\u001b[39m         \u001b[38;5;28;01mif\u001b[39;00m \u001b[38;5;28mlen\u001b[39m(r) == \u001b[32m0\u001b[39m \u001b[38;5;129;01mor\u001b[39;00m \u001b[38;5;28mlen\u001b[39m(data) == size:\n",
      "\u001b[36mFile \u001b[39m\u001b[32mc:\\Users\\TIANY1\\Miniconda3\\Lib\\zipfile\\__init__.py:992\u001b[39m, in \u001b[36mZipExtFile.read\u001b[39m\u001b[34m(self, n)\u001b[39m\n\u001b[32m    990\u001b[39m \u001b[38;5;28mself\u001b[39m._offset = \u001b[32m0\u001b[39m\n\u001b[32m    991\u001b[39m \u001b[38;5;28;01mwhile\u001b[39;00m n > \u001b[32m0\u001b[39m \u001b[38;5;129;01mand\u001b[39;00m \u001b[38;5;129;01mnot\u001b[39;00m \u001b[38;5;28mself\u001b[39m._eof:\n\u001b[32m--> \u001b[39m\u001b[32m992\u001b[39m     data = \u001b[38;5;28;43mself\u001b[39;49m\u001b[43m.\u001b[49m\u001b[43m_read1\u001b[49m\u001b[43m(\u001b[49m\u001b[43mn\u001b[49m\u001b[43m)\u001b[49m\n\u001b[32m    993\u001b[39m     \u001b[38;5;28;01mif\u001b[39;00m n < \u001b[38;5;28mlen\u001b[39m(data):\n\u001b[32m    994\u001b[39m         \u001b[38;5;28mself\u001b[39m._readbuffer = data\n",
      "\u001b[36mFile \u001b[39m\u001b[32mc:\\Users\\TIANY1\\Miniconda3\\Lib\\zipfile\\__init__.py:1068\u001b[39m, in \u001b[36mZipExtFile._read1\u001b[39m\u001b[34m(self, n)\u001b[39m\n\u001b[32m   1066\u001b[39m \u001b[38;5;28;01melif\u001b[39;00m \u001b[38;5;28mself\u001b[39m._compress_type == ZIP_DEFLATED:\n\u001b[32m   1067\u001b[39m     n = \u001b[38;5;28mmax\u001b[39m(n, \u001b[38;5;28mself\u001b[39m.MIN_READ_SIZE)\n\u001b[32m-> \u001b[39m\u001b[32m1068\u001b[39m     data = \u001b[38;5;28;43mself\u001b[39;49m\u001b[43m.\u001b[49m\u001b[43m_decompressor\u001b[49m\u001b[43m.\u001b[49m\u001b[43mdecompress\u001b[49m\u001b[43m(\u001b[49m\u001b[43mdata\u001b[49m\u001b[43m,\u001b[49m\u001b[43m \u001b[49m\u001b[43mn\u001b[49m\u001b[43m)\u001b[49m\n\u001b[32m   1069\u001b[39m     \u001b[38;5;28mself\u001b[39m._eof = (\u001b[38;5;28mself\u001b[39m._decompressor.eof \u001b[38;5;129;01mor\u001b[39;00m\n\u001b[32m   1070\u001b[39m                  \u001b[38;5;28mself\u001b[39m._compress_left <= \u001b[32m0\u001b[39m \u001b[38;5;129;01mand\u001b[39;00m\n\u001b[32m   1071\u001b[39m                  \u001b[38;5;129;01mnot\u001b[39;00m \u001b[38;5;28mself\u001b[39m._decompressor.unconsumed_tail)\n\u001b[32m   1072\u001b[39m     \u001b[38;5;28;01mif\u001b[39;00m \u001b[38;5;28mself\u001b[39m._eof:\n",
      "\u001b[31mKeyboardInterrupt\u001b[39m: "
     ]
    }
   ],
   "source": [
    "num_epochs = 20\n",
    "best_acc1 = 0.0\n",
    "best_epoch = 0\n",
    "best_model_wts = None\n",
    "\n",
    "train_loss_history, val_loss_history = [], []\n",
    "train_acc1_history, val_acc1_history = [], []\n",
    "train_acc5_history, val_acc5_history = [], []\n",
    "\n",
    "os.makedirs(r\"C:\\Users\\TIANY1\\OneDrive - Trinity College Dublin\\Documents\\SoundSourceLocalization\\checkpoints\", exist_ok=True)\n",
    "\n",
    "fig, axs = plt.subplots(1, 2, figsize=(12, 4))\n",
    "axs[0].set_title(\"Loss Curve\")\n",
    "axs[0].set_xlabel(\"Epoch\")\n",
    "axs[0].set_ylabel(\"Loss\")\n",
    "train_loss_line, = axs[0].plot([], [], label='Train Loss')\n",
    "val_loss_line, = axs[0].plot([], [], label='Val Loss')\n",
    "axs[0].legend()\n",
    "\n",
    "axs[1].set_title(\"Accuracy Curve\")\n",
    "axs[1].set_xlabel(\"Epoch\")\n",
    "axs[1].set_ylabel(\"Accuracy\")\n",
    "train_acc1_line, = axs[1].plot([], [], 'b-', label='Top-1 Train')\n",
    "val_acc1_line, = axs[1].plot([], [], 'b--', label='Top-1 Val')\n",
    "train_acc5_line, = axs[1].plot([], [], 'r-', label='Top-5 Train')\n",
    "val_acc5_line, = axs[1].plot([], [], 'r--', label='Top-5 Val')\n",
    "axs[1].legend()\n",
    "\n",
    "plt.tight_layout()\n",
    "\n",
    "for epoch in range(1, num_epochs + 1):\n",
    "    model.train()\n",
    "    train_loss_sum = 0.0\n",
    "    train_correct_top1 = 0\n",
    "    train_correct_top5 = 0\n",
    "    train_total = 0\n",
    "\n",
    "    pbar = tqdm(train_loader, desc=f\"Epoch {epoch}/{num_epochs}\", leave=False)\n",
    "    for cue, azi in pbar:\n",
    "        cue, azi = cue.to(device), azi.to(device)\n",
    "        optimizer.zero_grad()\n",
    "        outputs = model(cue)\n",
    "        loss = criterion(outputs, azi)\n",
    "        loss.backward()\n",
    "        optimizer.step()\n",
    "\n",
    "        train_loss_sum += loss.item() * cue.size(0)\n",
    "        train_total += cue.size(0)\n",
    "\n",
    "        # Top-1 and Top-5 Accuracy\n",
    "        _, pred_top1 = outputs.max(dim=1)\n",
    "        train_correct_top1 += (pred_top1 == azi).sum().item()\n",
    "\n",
    "        top5_val, top5_idx = outputs.topk(5, dim=1)\n",
    "        diff = (top5_idx - azi.view(-1, 1)).abs()\n",
    "        diff = torch.minimum(diff, 72 - diff)\n",
    "        train_correct_top5 += (diff <=2).any(dim=1).sum().item()\n",
    "\n",
    "        batch_acc1 = (pred_top1 == azi).float().mean().item()\n",
    "        batch_acc5 = (diff <= 2).any(dim=1).float().mean().item()\n",
    "        pbar.set_postfix(loss=loss.item(), top1=f\"{batch_acc1*100:.1f}%\", top5=f\"{batch_acc5*100:.1f}%\")\n",
    "\n",
    "    train_loss_avg = train_loss_sum / train_total\n",
    "    train_acc1 = train_correct_top1 / train_total\n",
    "    train_acc5 = train_correct_top5 / train_total\n",
    "\n",
    "    # Evaluation\n",
    "    model.eval()\n",
    "    val_loss_sum = 0.0\n",
    "    val_correct_top1 = 0\n",
    "    val_correct_top5 = 0\n",
    "    val_total = 0\n",
    "\n",
    "    with torch.no_grad():\n",
    "        for cue, azi in tqdm(val_loader, desc=\"Evaluating...\", leave=False):\n",
    "            cue, azi = cue.to(device), azi.to(device)\n",
    "            outputs = model(cue)\n",
    "            loss = criterion(outputs, azi)\n",
    "\n",
    "            val_loss_sum += loss.item() * cue.size(0)\n",
    "            val_total += cue.size(0)\n",
    "            _, pred_top1 = outputs.max(dim=1)\n",
    "            val_correct_top1 += (pred_top1 == azi).sum().item()\n",
    "            top5_vals, top5_idx = outputs.topk(5, dim=1)\n",
    "            diff = (top5_idx - azi.view(-1, 1)).abs()\n",
    "            diff = torch.minimum(diff, 72 - diff)\n",
    "            val_correct_top5 += (diff <= 2).any(dim=1).sum().item()\n",
    "\n",
    "    val_loss_avg = val_loss_sum / val_total\n",
    "    val_acc1 = val_correct_top1 / val_total\n",
    "    val_acc5 = val_correct_top5 / val_total\n",
    "\n",
    "    # Record results\n",
    "    train_loss_history.append(train_loss_avg)\n",
    "    val_loss_history.append(val_loss_avg)\n",
    "    train_acc1_history.append(train_acc1)\n",
    "    val_acc1_history.append(val_acc1)\n",
    "    train_acc5_history.append(train_acc5)\n",
    "    val_acc5_history.append(val_acc5)\n",
    "\n",
    "    # 实时更新图像\n",
    "    epochs_range = range(1, epoch + 1)\n",
    "    train_loss_line.set_data(epochs_range, train_loss_history)\n",
    "    val_loss_line.set_data(epochs_range, val_loss_history)\n",
    "    train_acc1_line.set_data(epochs_range, train_acc1_history)\n",
    "    val_acc1_line.set_data(epochs_range, val_acc1_history)\n",
    "    train_acc5_line.set_data(epochs_range, train_acc5_history)\n",
    "    val_acc5_line.set_data(epochs_range, val_acc5_history)\n",
    "\n",
    "    # 自适应坐标轴范围\n",
    "    axs[0].relim(); axs[0].autoscale_view()\n",
    "    axs[1].relim(); axs[1].autoscale_view()\n",
    "\n",
    "    plt.pause(0.01)  # 让图像刷新\n",
    "\n",
    "    print(f\"Epoch {epoch}/{num_epochs}: Train Loss={train_loss_avg:.4f}, Top-1={train_acc1*100:.2f}%, Top-5={train_acc5*100:.2f}% | \"\n",
    "          f\"Evaluation Loss={val_loss_avg:.4f}, Top-1={val_acc1*100:.2f}%, Top-5={val_acc5*100:.2f}%\")\n",
    "    \n",
    "    # Checkpoints\n",
    "    checkpoint = {\n",
    "        \"epoch\": epoch,\n",
    "        \"model_state_dict\": model.state_dict(),\n",
    "        \"optimizer_state_dict\": optimizer.state_dict()\n",
    "    }\n",
    "\n",
    "    checkpoint_path = os.path.join(\n",
    "        r\"C:\\Users\\TIANY1\\OneDrive - Trinity College Dublin\\Documents\\SoundSourceLocalization\\checkpoints\",\n",
    "        f\"epoch_{epoch}.pth\"\n",
    "    )\n",
    "    torch.save(checkpoint, checkpoint_path)\n",
    "    \n",
    "    if val_acc1 > best_acc1:\n",
    "        best_acc1 = val_acc1\n",
    "        best_epoch = epoch\n",
    "        best_model_wts = model.state_dict()\n",
    "\n",
    "if best_model_wts is not None:\n",
    "    torch.save(best_model_wts, os.path.join(\n",
    "        r\"C:\\Users\\TIANY1\\OneDrive - Trinity College Dublin\\Documents\\SoundSourceLocalization\\checkpoints\",\n",
    "        \"best_model.pth\"\n",
    "    ))\n",
    "    print(f\"The best model appears in epoch {best_epoch}, and the Validation Top-1 Accuracy is {best_acc1*100:.2f}%, save as best_model.pth\")"
   ]
  },
  {
   "cell_type": "markdown",
   "metadata": {},
   "source": [
    "Load checkpoint and recover"
   ]
  },
  {
   "cell_type": "code",
   "execution_count": 33,
   "metadata": {},
   "outputs": [
    {
     "name": "stderr",
     "output_type": "stream",
     "text": [
      "C:\\Users\\TIANY1\\AppData\\Local\\Temp\\ipykernel_15316\\3569744362.py:1: FutureWarning: You are using `torch.load` with `weights_only=False` (the current default value), which uses the default pickle module implicitly. It is possible to construct malicious pickle data which will execute arbitrary code during unpickling (See https://github.com/pytorch/pytorch/blob/main/SECURITY.md#untrusted-models for more details). In a future release, the default value for `weights_only` will be flipped to `True`. This limits the functions that could be executed during unpickling. Arbitrary objects will no longer be allowed to be loaded via this mode unless they are explicitly allowlisted by the user via `torch.serialization.add_safe_globals`. We recommend you start setting `weights_only=True` for any use case where you don't have full control of the loaded file. Please open an issue on GitHub for any issues related to this experimental feature.\n",
      "  checkpoint = torch.load(r\"C:\\Users\\TIANY1\\OneDrive - Trinity College Dublin\\Documents\\SoundSourceLocalization\\checkpoints\\model2\\epoch_17.pth\", map_location=device)\n"
     ]
    },
    {
     "data": {
      "application/vnd.jupyter.widget-view+json": {
       "model_id": "6931db6ae3c94070a638097656752883",
       "version_major": 2,
       "version_minor": 0
      },
      "text/plain": [
       "Epoch 18/40:   0%|          | 0/1260 [00:00<?, ?it/s]"
      ]
     },
     "metadata": {},
     "output_type": "display_data"
    },
    {
     "data": {
      "application/vnd.jupyter.widget-view+json": {
       "model_id": "f5015e87e0434291b8c0f7d003ee9ee5",
       "version_major": 2,
       "version_minor": 0
      },
      "text/plain": [
       "Evaluating...:   0%|          | 0/315 [00:00<?, ?it/s]"
      ]
     },
     "metadata": {},
     "output_type": "display_data"
    },
    {
     "name": "stdout",
     "output_type": "stream",
     "text": [
      "Epoch 18/40: Train Loss=1.5182, Top-1=48.17%, Top-5=95.86% | Evaluation Loss=1.3565, Top-1=53.42%, Top-5=96.43%\n"
     ]
    },
    {
     "data": {
      "application/vnd.jupyter.widget-view+json": {
       "model_id": "4c0bcc21ae814051a86c56fc2faff9ac",
       "version_major": 2,
       "version_minor": 0
      },
      "text/plain": [
       "Epoch 18/40:   0%|          | 0/1260 [00:00<?, ?it/s]"
      ]
     },
     "metadata": {},
     "output_type": "display_data"
    },
    {
     "data": {
      "application/vnd.jupyter.widget-view+json": {
       "model_id": "fa5623832bce4a0b9446068a7b927a77",
       "version_major": 2,
       "version_minor": 0
      },
      "text/plain": [
       "Evaluating...:   0%|          | 0/315 [00:00<?, ?it/s]"
      ]
     },
     "metadata": {},
     "output_type": "display_data"
    },
    {
     "name": "stdout",
     "output_type": "stream",
     "text": [
      "Epoch 19/40: Train Loss=1.4850, Top-1=49.26%, Top-5=95.99% | Evaluation Loss=1.3579, Top-1=53.70%, Top-5=96.63%\n"
     ]
    },
    {
     "data": {
      "application/vnd.jupyter.widget-view+json": {
       "model_id": "c8f855b7265843eca2816b1d3ae11422",
       "version_major": 2,
       "version_minor": 0
      },
      "text/plain": [
       "Epoch 18/40:   0%|          | 0/1260 [00:00<?, ?it/s]"
      ]
     },
     "metadata": {},
     "output_type": "display_data"
    },
    {
     "data": {
      "application/vnd.jupyter.widget-view+json": {
       "model_id": "44c14b96a68a432590e6f9b04d9c7cad",
       "version_major": 2,
       "version_minor": 0
      },
      "text/plain": [
       "Evaluating...:   0%|          | 0/315 [00:00<?, ?it/s]"
      ]
     },
     "metadata": {},
     "output_type": "display_data"
    },
    {
     "name": "stdout",
     "output_type": "stream",
     "text": [
      "Epoch 20/40: Train Loss=1.4637, Top-1=49.70%, Top-5=96.25% | Evaluation Loss=1.3067, Top-1=54.98%, Top-5=97.44%\n"
     ]
    },
    {
     "data": {
      "application/vnd.jupyter.widget-view+json": {
       "model_id": "993065ba8b42449b8c429d2bcf9f9793",
       "version_major": 2,
       "version_minor": 0
      },
      "text/plain": [
       "Epoch 18/40:   0%|          | 0/1260 [00:00<?, ?it/s]"
      ]
     },
     "metadata": {},
     "output_type": "display_data"
    },
    {
     "data": {
      "application/vnd.jupyter.widget-view+json": {
       "model_id": "9bb228cd35f544f2957fc690c0d7103b",
       "version_major": 2,
       "version_minor": 0
      },
      "text/plain": [
       "Evaluating...:   0%|          | 0/315 [00:00<?, ?it/s]"
      ]
     },
     "metadata": {},
     "output_type": "display_data"
    },
    {
     "name": "stdout",
     "output_type": "stream",
     "text": [
      "Epoch 21/40: Train Loss=1.4481, Top-1=50.16%, Top-5=96.25% | Evaluation Loss=1.3017, Top-1=55.71%, Top-5=97.28%\n"
     ]
    },
    {
     "data": {
      "application/vnd.jupyter.widget-view+json": {
       "model_id": "57b8cd666ac24f35ad1716b01aadb11a",
       "version_major": 2,
       "version_minor": 0
      },
      "text/plain": [
       "Epoch 18/40:   0%|          | 0/1260 [00:00<?, ?it/s]"
      ]
     },
     "metadata": {},
     "output_type": "display_data"
    },
    {
     "data": {
      "application/vnd.jupyter.widget-view+json": {
       "model_id": "64226f9dfc7748278946e643f7f55703",
       "version_major": 2,
       "version_minor": 0
      },
      "text/plain": [
       "Evaluating...:   0%|          | 0/315 [00:00<?, ?it/s]"
      ]
     },
     "metadata": {},
     "output_type": "display_data"
    },
    {
     "name": "stdout",
     "output_type": "stream",
     "text": [
      "Epoch 22/40: Train Loss=1.4222, Top-1=50.83%, Top-5=96.45% | Evaluation Loss=1.2803, Top-1=55.91%, Top-5=96.93%\n"
     ]
    },
    {
     "data": {
      "application/vnd.jupyter.widget-view+json": {
       "model_id": "d3db3538cdce41b09e8b5a7d2b870ff8",
       "version_major": 2,
       "version_minor": 0
      },
      "text/plain": [
       "Epoch 18/40:   0%|          | 0/1260 [00:00<?, ?it/s]"
      ]
     },
     "metadata": {},
     "output_type": "display_data"
    },
    {
     "data": {
      "application/vnd.jupyter.widget-view+json": {
       "model_id": "3ca2894f947c4c4cbbf11988047059ab",
       "version_major": 2,
       "version_minor": 0
      },
      "text/plain": [
       "Evaluating...:   0%|          | 0/315 [00:00<?, ?it/s]"
      ]
     },
     "metadata": {},
     "output_type": "display_data"
    },
    {
     "name": "stdout",
     "output_type": "stream",
     "text": [
      "Epoch 23/40: Train Loss=1.4016, Top-1=51.89%, Top-5=96.61% | Evaluation Loss=1.2607, Top-1=57.26%, Top-5=97.39%\n"
     ]
    },
    {
     "data": {
      "application/vnd.jupyter.widget-view+json": {
       "model_id": "32f08755cbf94d7fbc51bf2afa6be1b8",
       "version_major": 2,
       "version_minor": 0
      },
      "text/plain": [
       "Epoch 18/40:   0%|          | 0/1260 [00:00<?, ?it/s]"
      ]
     },
     "metadata": {},
     "output_type": "display_data"
    },
    {
     "data": {
      "application/vnd.jupyter.widget-view+json": {
       "model_id": "2e0f95964bba4668ab004a7067c8fd7b",
       "version_major": 2,
       "version_minor": 0
      },
      "text/plain": [
       "Evaluating...:   0%|          | 0/315 [00:00<?, ?it/s]"
      ]
     },
     "metadata": {},
     "output_type": "display_data"
    },
    {
     "name": "stdout",
     "output_type": "stream",
     "text": [
      "Epoch 24/40: Train Loss=1.3777, Top-1=52.34%, Top-5=96.71% | Evaluation Loss=1.2614, Top-1=56.80%, Top-5=97.20%\n"
     ]
    },
    {
     "data": {
      "application/vnd.jupyter.widget-view+json": {
       "model_id": "0bced70c3e71451f9e050a840cb67d0f",
       "version_major": 2,
       "version_minor": 0
      },
      "text/plain": [
       "Epoch 18/40:   0%|          | 0/1260 [00:00<?, ?it/s]"
      ]
     },
     "metadata": {},
     "output_type": "display_data"
    },
    {
     "data": {
      "application/vnd.jupyter.widget-view+json": {
       "model_id": "54e68b13b74c4fe381a49ca05c4747f1",
       "version_major": 2,
       "version_minor": 0
      },
      "text/plain": [
       "Evaluating...:   0%|          | 0/315 [00:00<?, ?it/s]"
      ]
     },
     "metadata": {},
     "output_type": "display_data"
    },
    {
     "name": "stdout",
     "output_type": "stream",
     "text": [
      "Epoch 25/40: Train Loss=1.3666, Top-1=53.08%, Top-5=96.68% | Evaluation Loss=1.2113, Top-1=58.67%, Top-5=97.76%\n"
     ]
    },
    {
     "data": {
      "application/vnd.jupyter.widget-view+json": {
       "model_id": "2be3378883ef45ce8cfc86e5a22de0a2",
       "version_major": 2,
       "version_minor": 0
      },
      "text/plain": [
       "Epoch 18/40:   0%|          | 0/1260 [00:00<?, ?it/s]"
      ]
     },
     "metadata": {},
     "output_type": "display_data"
    },
    {
     "data": {
      "application/vnd.jupyter.widget-view+json": {
       "model_id": "39d3a91390c24c69aad282eb15ac9c02",
       "version_major": 2,
       "version_minor": 0
      },
      "text/plain": [
       "Evaluating...:   0%|          | 0/315 [00:00<?, ?it/s]"
      ]
     },
     "metadata": {},
     "output_type": "display_data"
    },
    {
     "name": "stdout",
     "output_type": "stream",
     "text": [
      "Epoch 26/40: Train Loss=1.3460, Top-1=53.64%, Top-5=96.89% | Evaluation Loss=1.2156, Top-1=58.19%, Top-5=97.69%\n"
     ]
    },
    {
     "data": {
      "application/vnd.jupyter.widget-view+json": {
       "model_id": "1ad0c317b2fe4f2e92eac73d0b7a5307",
       "version_major": 2,
       "version_minor": 0
      },
      "text/plain": [
       "Epoch 18/40:   0%|          | 0/1260 [00:00<?, ?it/s]"
      ]
     },
     "metadata": {},
     "output_type": "display_data"
    },
    {
     "data": {
      "application/vnd.jupyter.widget-view+json": {
       "model_id": "b4509a861355491abfa059a591bf8325",
       "version_major": 2,
       "version_minor": 0
      },
      "text/plain": [
       "Evaluating...:   0%|          | 0/315 [00:00<?, ?it/s]"
      ]
     },
     "metadata": {},
     "output_type": "display_data"
    },
    {
     "name": "stdout",
     "output_type": "stream",
     "text": [
      "Epoch 27/40: Train Loss=1.3082, Top-1=55.10%, Top-5=97.16% | Evaluation Loss=1.2039, Top-1=58.96%, Top-5=97.60%\n"
     ]
    },
    {
     "data": {
      "application/vnd.jupyter.widget-view+json": {
       "model_id": "819706ed30c74f90a5603d896b09eb08",
       "version_major": 2,
       "version_minor": 0
      },
      "text/plain": [
       "Epoch 18/40:   0%|          | 0/1260 [00:00<?, ?it/s]"
      ]
     },
     "metadata": {},
     "output_type": "display_data"
    },
    {
     "data": {
      "application/vnd.jupyter.widget-view+json": {
       "model_id": "bf4515a140c44017ad84d874c5c981dd",
       "version_major": 2,
       "version_minor": 0
      },
      "text/plain": [
       "Evaluating...:   0%|          | 0/315 [00:00<?, ?it/s]"
      ]
     },
     "metadata": {},
     "output_type": "display_data"
    },
    {
     "name": "stdout",
     "output_type": "stream",
     "text": [
      "Epoch 28/40: Train Loss=1.2906, Top-1=55.19%, Top-5=97.15% | Evaluation Loss=1.1604, Top-1=60.77%, Top-5=97.82%\n"
     ]
    },
    {
     "data": {
      "application/vnd.jupyter.widget-view+json": {
       "model_id": "e41f87cc72354750830d02fc3ea75f68",
       "version_major": 2,
       "version_minor": 0
      },
      "text/plain": [
       "Epoch 18/40:   0%|          | 0/1260 [00:00<?, ?it/s]"
      ]
     },
     "metadata": {},
     "output_type": "display_data"
    },
    {
     "data": {
      "application/vnd.jupyter.widget-view+json": {
       "model_id": "1a4ba15e66d145d3aa383f004df8731e",
       "version_major": 2,
       "version_minor": 0
      },
      "text/plain": [
       "Evaluating...:   0%|          | 0/315 [00:00<?, ?it/s]"
      ]
     },
     "metadata": {},
     "output_type": "display_data"
    },
    {
     "name": "stdout",
     "output_type": "stream",
     "text": [
      "Epoch 29/40: Train Loss=1.2725, Top-1=56.10%, Top-5=97.26% | Evaluation Loss=1.1417, Top-1=61.13%, Top-5=97.91%\n"
     ]
    },
    {
     "data": {
      "application/vnd.jupyter.widget-view+json": {
       "model_id": "d9efd94613764f38866bfda9710181c3",
       "version_major": 2,
       "version_minor": 0
      },
      "text/plain": [
       "Epoch 18/40:   0%|          | 0/1260 [00:00<?, ?it/s]"
      ]
     },
     "metadata": {},
     "output_type": "display_data"
    },
    {
     "data": {
      "application/vnd.jupyter.widget-view+json": {
       "model_id": "89d1f558a0a04c8485c09ff67e19bd5e",
       "version_major": 2,
       "version_minor": 0
      },
      "text/plain": [
       "Evaluating...:   0%|          | 0/315 [00:00<?, ?it/s]"
      ]
     },
     "metadata": {},
     "output_type": "display_data"
    },
    {
     "name": "stdout",
     "output_type": "stream",
     "text": [
      "Epoch 30/40: Train Loss=1.2486, Top-1=57.01%, Top-5=97.30% | Evaluation Loss=1.1160, Top-1=61.83%, Top-5=97.89%\n"
     ]
    },
    {
     "data": {
      "application/vnd.jupyter.widget-view+json": {
       "model_id": "351d49f686bc4db1b75997c2228ba6a0",
       "version_major": 2,
       "version_minor": 0
      },
      "text/plain": [
       "Epoch 18/40:   0%|          | 0/1260 [00:00<?, ?it/s]"
      ]
     },
     "metadata": {},
     "output_type": "display_data"
    },
    {
     "data": {
      "application/vnd.jupyter.widget-view+json": {
       "model_id": "edaa4e5775124cdcbef33537c26b110d",
       "version_major": 2,
       "version_minor": 0
      },
      "text/plain": [
       "Evaluating...:   0%|          | 0/315 [00:00<?, ?it/s]"
      ]
     },
     "metadata": {},
     "output_type": "display_data"
    },
    {
     "name": "stdout",
     "output_type": "stream",
     "text": [
      "Epoch 31/40: Train Loss=1.2294, Top-1=57.53%, Top-5=97.48% | Evaluation Loss=1.1215, Top-1=61.91%, Top-5=98.03%\n"
     ]
    },
    {
     "data": {
      "application/vnd.jupyter.widget-view+json": {
       "model_id": "999a54ec8b104d41a676f3ae7196b1c3",
       "version_major": 2,
       "version_minor": 0
      },
      "text/plain": [
       "Epoch 18/40:   0%|          | 0/1260 [00:00<?, ?it/s]"
      ]
     },
     "metadata": {},
     "output_type": "display_data"
    },
    {
     "data": {
      "application/vnd.jupyter.widget-view+json": {
       "model_id": "8cffec9fdb524343a1c88b505128aed2",
       "version_major": 2,
       "version_minor": 0
      },
      "text/plain": [
       "Evaluating...:   0%|          | 0/315 [00:00<?, ?it/s]"
      ]
     },
     "metadata": {},
     "output_type": "display_data"
    },
    {
     "name": "stdout",
     "output_type": "stream",
     "text": [
      "Epoch 32/40: Train Loss=1.2086, Top-1=58.40%, Top-5=97.52% | Evaluation Loss=1.1052, Top-1=62.23%, Top-5=98.05%\n"
     ]
    },
    {
     "data": {
      "application/vnd.jupyter.widget-view+json": {
       "model_id": "c569a980c5a74af6b1331bffa306af30",
       "version_major": 2,
       "version_minor": 0
      },
      "text/plain": [
       "Epoch 18/40:   0%|          | 0/1260 [00:00<?, ?it/s]"
      ]
     },
     "metadata": {},
     "output_type": "display_data"
    },
    {
     "data": {
      "application/vnd.jupyter.widget-view+json": {
       "model_id": "6351f361dd154dba9366517d33d76b23",
       "version_major": 2,
       "version_minor": 0
      },
      "text/plain": [
       "Evaluating...:   0%|          | 0/315 [00:00<?, ?it/s]"
      ]
     },
     "metadata": {},
     "output_type": "display_data"
    },
    {
     "name": "stdout",
     "output_type": "stream",
     "text": [
      "Epoch 33/40: Train Loss=1.1912, Top-1=58.82%, Top-5=97.70% | Evaluation Loss=1.0798, Top-1=63.39%, Top-5=98.11%\n"
     ]
    },
    {
     "data": {
      "application/vnd.jupyter.widget-view+json": {
       "model_id": "dcea5ba08fbd495eae4164d17610792b",
       "version_major": 2,
       "version_minor": 0
      },
      "text/plain": [
       "Epoch 18/40:   0%|          | 0/1260 [00:00<?, ?it/s]"
      ]
     },
     "metadata": {},
     "output_type": "display_data"
    },
    {
     "data": {
      "application/vnd.jupyter.widget-view+json": {
       "model_id": "7fc86be054a648b4805cb97a216995d4",
       "version_major": 2,
       "version_minor": 0
      },
      "text/plain": [
       "Evaluating...:   0%|          | 0/315 [00:00<?, ?it/s]"
      ]
     },
     "metadata": {},
     "output_type": "display_data"
    },
    {
     "name": "stdout",
     "output_type": "stream",
     "text": [
      "Epoch 34/40: Train Loss=1.1725, Top-1=59.46%, Top-5=97.76% | Evaluation Loss=1.0889, Top-1=62.93%, Top-5=98.12%\n"
     ]
    },
    {
     "data": {
      "application/vnd.jupyter.widget-view+json": {
       "model_id": "c5980006d1b7407fb67e7cd8c4ee4014",
       "version_major": 2,
       "version_minor": 0
      },
      "text/plain": [
       "Epoch 18/40:   0%|          | 0/1260 [00:00<?, ?it/s]"
      ]
     },
     "metadata": {},
     "output_type": "display_data"
    },
    {
     "data": {
      "application/vnd.jupyter.widget-view+json": {
       "model_id": "2050b7789b274dcb8cf58f82d706c82e",
       "version_major": 2,
       "version_minor": 0
      },
      "text/plain": [
       "Evaluating...:   0%|          | 0/315 [00:00<?, ?it/s]"
      ]
     },
     "metadata": {},
     "output_type": "display_data"
    },
    {
     "name": "stdout",
     "output_type": "stream",
     "text": [
      "Epoch 35/40: Train Loss=1.1568, Top-1=60.13%, Top-5=97.78% | Evaluation Loss=1.0691, Top-1=63.31%, Top-5=98.17%\n"
     ]
    },
    {
     "data": {
      "application/vnd.jupyter.widget-view+json": {
       "model_id": "54f7984b56054e40a9e2b29061d92f84",
       "version_major": 2,
       "version_minor": 0
      },
      "text/plain": [
       "Epoch 18/40:   0%|          | 0/1260 [00:00<?, ?it/s]"
      ]
     },
     "metadata": {},
     "output_type": "display_data"
    },
    {
     "data": {
      "application/vnd.jupyter.widget-view+json": {
       "model_id": "78461cbc388c4dfc99e6d5486402bccb",
       "version_major": 2,
       "version_minor": 0
      },
      "text/plain": [
       "Evaluating...:   0%|          | 0/315 [00:00<?, ?it/s]"
      ]
     },
     "metadata": {},
     "output_type": "display_data"
    },
    {
     "name": "stdout",
     "output_type": "stream",
     "text": [
      "Epoch 36/40: Train Loss=1.1598, Top-1=60.16%, Top-5=97.79% | Evaluation Loss=1.0682, Top-1=63.85%, Top-5=98.09%\n"
     ]
    },
    {
     "data": {
      "application/vnd.jupyter.widget-view+json": {
       "model_id": "209c6a5c8ee1476ebad5dd470c62b20d",
       "version_major": 2,
       "version_minor": 0
      },
      "text/plain": [
       "Epoch 18/40:   0%|          | 0/1260 [00:00<?, ?it/s]"
      ]
     },
     "metadata": {},
     "output_type": "display_data"
    },
    {
     "data": {
      "application/vnd.jupyter.widget-view+json": {
       "model_id": "9e8e471e69aa48d78ea89f51f9ce9a9b",
       "version_major": 2,
       "version_minor": 0
      },
      "text/plain": [
       "Evaluating...:   0%|          | 0/315 [00:00<?, ?it/s]"
      ]
     },
     "metadata": {},
     "output_type": "display_data"
    },
    {
     "name": "stdout",
     "output_type": "stream",
     "text": [
      "Epoch 37/40: Train Loss=1.1511, Top-1=60.31%, Top-5=97.80% | Evaluation Loss=1.0727, Top-1=63.53%, Top-5=98.20%\n"
     ]
    },
    {
     "data": {
      "application/vnd.jupyter.widget-view+json": {
       "model_id": "79f85700c4214270b8b06f5a5a9c237c",
       "version_major": 2,
       "version_minor": 0
      },
      "text/plain": [
       "Epoch 18/40:   0%|          | 0/1260 [00:00<?, ?it/s]"
      ]
     },
     "metadata": {},
     "output_type": "display_data"
    },
    {
     "data": {
      "application/vnd.jupyter.widget-view+json": {
       "model_id": "9f93aec486244b2bb82127a7c2aebc33",
       "version_major": 2,
       "version_minor": 0
      },
      "text/plain": [
       "Evaluating...:   0%|          | 0/315 [00:00<?, ?it/s]"
      ]
     },
     "metadata": {},
     "output_type": "display_data"
    },
    {
     "name": "stdout",
     "output_type": "stream",
     "text": [
      "Epoch 38/40: Train Loss=1.1548, Top-1=60.21%, Top-5=97.86% | Evaluation Loss=1.0681, Top-1=63.71%, Top-5=98.24%\n"
     ]
    },
    {
     "data": {
      "application/vnd.jupyter.widget-view+json": {
       "model_id": "51781d1fb34f44e694915c47540d5d01",
       "version_major": 2,
       "version_minor": 0
      },
      "text/plain": [
       "Epoch 18/40:   0%|          | 0/1260 [00:00<?, ?it/s]"
      ]
     },
     "metadata": {},
     "output_type": "display_data"
    },
    {
     "data": {
      "application/vnd.jupyter.widget-view+json": {
       "model_id": "33ba886f62a84e2e8f028d2be627647c",
       "version_major": 2,
       "version_minor": 0
      },
      "text/plain": [
       "Evaluating...:   0%|          | 0/315 [00:00<?, ?it/s]"
      ]
     },
     "metadata": {},
     "output_type": "display_data"
    },
    {
     "name": "stdout",
     "output_type": "stream",
     "text": [
      "Epoch 39/40: Train Loss=1.1518, Top-1=60.50%, Top-5=97.73% | Evaluation Loss=1.0667, Top-1=63.86%, Top-5=98.23%\n"
     ]
    },
    {
     "data": {
      "application/vnd.jupyter.widget-view+json": {
       "model_id": "a23a841b834e416ca5578f3da495b3ce",
       "version_major": 2,
       "version_minor": 0
      },
      "text/plain": [
       "Epoch 18/40:   0%|          | 0/1260 [00:00<?, ?it/s]"
      ]
     },
     "metadata": {},
     "output_type": "display_data"
    },
    {
     "data": {
      "application/vnd.jupyter.widget-view+json": {
       "model_id": "12200cbc813c43d3a1c89fe222caca23",
       "version_major": 2,
       "version_minor": 0
      },
      "text/plain": [
       "Evaluating...:   0%|          | 0/315 [00:00<?, ?it/s]"
      ]
     },
     "metadata": {},
     "output_type": "display_data"
    },
    {
     "name": "stdout",
     "output_type": "stream",
     "text": [
      "Epoch 40/40: Train Loss=1.1549, Top-1=60.10%, Top-5=97.69% | Evaluation Loss=1.0677, Top-1=63.74%, Top-5=98.13%\n",
      "The best model appears in epoch 39, and the Validation Top-1 Accuracy is 63.86%, save as best_model.pth\n"
     ]
    }
   ],
   "source": [
    "checkpoint = torch.load(r\"C:\\Users\\TIANY1\\OneDrive - Trinity College Dublin\\Documents\\SoundSourceLocalization\\checkpoints\\epoch_40.pth\", map_location=device)\n",
    "model.load_state_dict(checkpoint[\"model_state_dict\"])\n",
    "# optimizer.load_state_dict(checkpoint[\"optimizer_state_dict\"])\n",
    "start_epoch = checkpoint[\"epoch\"] + 1\n",
    "\n",
    "optimizer = torch.optim.AdamW(model.parameters(), lr=1e-4, weight_decay=0.01)\n",
    "scheduler = torch.optim.lr_scheduler.CosineAnnealingLR(optimizer, T_max=20, eta_min=1e-6)\n",
    "\n",
    "num_epochs = 60\n",
    "best_acc1 = 0.0\n",
    "best_epoch = 0\n",
    "best_model_wts = None\n",
    "\n",
    "os.makedirs(r\"C:\\Users\\TIANY1\\OneDrive - Trinity College Dublin\\Documents\\SoundSourceLocalization\\checkpoints\", exist_ok=True)\n",
    "\n",
    "for epoch in range(start_epoch, num_epochs + 1):\n",
    "    model.train()\n",
    "    train_loss_sum = 0.0\n",
    "    train_correct_top1 = 0\n",
    "    train_correct_top5 = 0\n",
    "    train_total = 0\n",
    "\n",
    "    pbar = tqdm(train_loader, desc=f\"Epoch {epoch}/{num_epochs}\", leave=False)\n",
    "    for cue, azi in pbar:\n",
    "        cue, azi = cue.to(device), azi.to(device)\n",
    "        optimizer.zero_grad()\n",
    "        outputs = model(cue)\n",
    "        loss = criterion(outputs, azi)\n",
    "        loss.backward()\n",
    "        optimizer.step()\n",
    "\n",
    "        train_loss_sum += loss.item() * cue.size(0)\n",
    "        train_total += cue.size(0)\n",
    "\n",
    "        # Top-1 and Top-5 Accuracy\n",
    "        _, pred_top1 = outputs.max(dim=1)\n",
    "        train_correct_top1 += (pred_top1 == azi).sum().item()\n",
    "\n",
    "        top5_val, top5_idx = outputs.topk(5, dim=1)\n",
    "        diff = (top5_idx - azi.view(-1, 1)).abs()\n",
    "        diff = torch.minimum(diff, 72 - diff)\n",
    "        train_correct_top5 += (diff <=2).any(dim=1).sum().item()\n",
    "\n",
    "        batch_acc1 = (pred_top1 == azi).float().mean().item()\n",
    "        batch_acc5 = (diff <= 2).any(dim=1).float().mean().item()\n",
    "        pbar.set_postfix(loss=loss.item(), top1=f\"{batch_acc1*100:.1f}%\", top5=f\"{batch_acc5*100:.1f}%\")\n",
    "\n",
    "    train_loss_avg = train_loss_sum / train_total\n",
    "    train_acc1 = train_correct_top1 / train_total\n",
    "    train_acc5 = train_correct_top5 / train_total\n",
    "\n",
    "    # Evaluation\n",
    "    model.eval()\n",
    "    val_loss_sum = 0.0\n",
    "    val_correct_top1 = 0\n",
    "    val_correct_top5 = 0\n",
    "    val_total = 0\n",
    "\n",
    "    with torch.no_grad():\n",
    "        for cue, azi in tqdm(val_loader, desc=\"Evaluating...\", leave=False):\n",
    "            cue, azi = cue.to(device), azi.to(device)\n",
    "            outputs = model(cue)\n",
    "            loss = criterion(outputs, azi)\n",
    "\n",
    "            val_loss_sum += loss.item() * cue.size(0)\n",
    "            val_total += cue.size(0)\n",
    "            _, pred_top1 = outputs.max(dim=1)\n",
    "            val_correct_top1 += (pred_top1 == azi).sum().item()\n",
    "            top5_vals, top5_idx = outputs.topk(5, dim=1)\n",
    "            diff = (top5_idx - azi.view(-1, 1)).abs()\n",
    "            diff = torch.minimum(diff, 72 - diff)\n",
    "            val_correct_top5 += (diff <= 2).any(dim=1).sum().item()\n",
    "\n",
    "    val_loss_avg = val_loss_sum / val_total\n",
    "    val_acc1 = val_correct_top1 / val_total\n",
    "    val_acc5 = val_correct_top5 / val_total\n",
    "\n",
    "    print(f\"Epoch {epoch}/{num_epochs}: Train Loss={train_loss_avg:.4f}, Top-1={train_acc1*100:.2f}%, Top-5={train_acc5*100:.2f}% | \"\n",
    "          f\"Evaluation Loss={val_loss_avg:.4f}, Top-1={val_acc1*100:.2f}%, Top-5={val_acc5*100:.2f}%\")\n",
    "    \n",
    "    # Checkpoints\n",
    "    checkpoint = {\n",
    "        \"epoch\": epoch,\n",
    "        \"model_state_dict\": model.state_dict(),\n",
    "        \"optimizer_state_dict\": optimizer.state_dict()\n",
    "    }\n",
    "\n",
    "    checkpoint_path = os.path.join(\n",
    "        r\"C:\\Users\\TIANY1\\OneDrive - Trinity College Dublin\\Documents\\SoundSourceLocalization\\checkpoints\",\n",
    "        f\"epoch_{epoch}.pth\"\n",
    "    )\n",
    "    torch.save(checkpoint, checkpoint_path)\n",
    "    \n",
    "    if val_acc1 > best_acc1:\n",
    "        best_acc1 = val_acc1\n",
    "        best_epoch = epoch\n",
    "        best_model_wts = model.state_dict()\n",
    "\n",
    "    scheduler.step()\n",
    "\n",
    "if best_model_wts is not None:\n",
    "    torch.save(best_model_wts, os.path.join(\n",
    "        r\"C:\\Users\\TIANY1\\OneDrive - Trinity College Dublin\\Documents\\SoundSourceLocalization\\checkpoints\",\n",
    "        \"best_model.pth\"\n",
    "    ))\n",
    "    print(f\"The best model appears in epoch {best_epoch}, and the Validation Top-1 Accuracy is {best_acc1*100:.2f}%, save as best_model.pth\")"
   ]
  },
  {
   "cell_type": "markdown",
   "metadata": {},
   "source": [
    "Run Evaluate"
   ]
  },
  {
   "cell_type": "code",
   "execution_count": 34,
   "metadata": {},
   "outputs": [
    {
     "name": "stderr",
     "output_type": "stream",
     "text": [
      "C:\\Users\\TIANY1\\AppData\\Local\\Temp\\ipykernel_15316\\3653683212.py:7: FutureWarning: You are using `torch.load` with `weights_only=False` (the current default value), which uses the default pickle module implicitly. It is possible to construct malicious pickle data which will execute arbitrary code during unpickling (See https://github.com/pytorch/pytorch/blob/main/SECURITY.md#untrusted-models for more details). In a future release, the default value for `weights_only` will be flipped to `True`. This limits the functions that could be executed during unpickling. Arbitrary objects will no longer be allowed to be loaded via this mode unless they are explicitly allowlisted by the user via `torch.serialization.add_safe_globals`. We recommend you start setting `weights_only=True` for any use case where you don't have full control of the loaded file. Please open an issue on GitHub for any issues related to this experimental feature.\n",
      "  checkpoint = torch.load(model_path, map_location=device)\n"
     ]
    },
    {
     "name": "stdout",
     "output_type": "stream",
     "text": [
      "📁 已加载 10080 个 .npz 文件，共 10080 个样本。\n",
      "🎯 Top-1 Accuracy: 63.86%\n",
      "📊 Mean Accuracy per Class: 63.86%\n",
      "              precision    recall  f1-score   support\n",
      "\n",
      "           0      0.656     0.721     0.687       140\n",
      "           1      0.635     0.721     0.676       140\n",
      "           2      0.623     0.671     0.646       140\n",
      "           3      0.625     0.679     0.651       140\n",
      "           4      0.593     0.636     0.614       140\n",
      "           5      0.669     0.607     0.637       140\n",
      "           6      0.564     0.600     0.581       140\n",
      "           7      0.532     0.536     0.534       140\n",
      "           8      0.559     0.571     0.565       140\n",
      "           9      0.589     0.471     0.524       140\n",
      "          10      0.697     0.771     0.732       140\n",
      "          11      0.750     0.793     0.771       140\n",
      "          12      0.770     0.886     0.824       140\n",
      "          13      0.706     0.721     0.714       140\n",
      "          14      0.664     0.593     0.626       140\n",
      "          15      0.810     0.700     0.751       140\n",
      "          16      0.768     0.614     0.683       140\n",
      "          17      0.708     0.571     0.632       140\n",
      "          18      0.720     0.771     0.745       140\n",
      "          19      0.693     0.757     0.724       140\n",
      "          20      0.713     0.693     0.703       140\n",
      "          21      0.693     0.757     0.724       140\n",
      "          22      0.618     0.600     0.609       140\n",
      "          23      0.819     0.807     0.813       140\n",
      "          24      0.698     0.629     0.662       140\n",
      "          25      0.739     0.750     0.745       140\n",
      "          26      0.783     0.850     0.815       140\n",
      "          27      0.534     0.557     0.545       140\n",
      "          28      0.526     0.514     0.520       140\n",
      "          29      0.529     0.521     0.525       140\n",
      "          30      0.558     0.514     0.535       140\n",
      "          31      0.515     0.629     0.566       140\n",
      "          32      0.523     0.493     0.507       140\n",
      "          33      0.534     0.557     0.545       140\n",
      "          34      0.526     0.507     0.516       140\n",
      "          35      0.538     0.407     0.463       140\n",
      "          36      0.691     0.736     0.713       140\n",
      "          37      0.559     0.543     0.551       140\n",
      "          38      0.514     0.536     0.524       140\n",
      "          39      0.529     0.514     0.522       140\n",
      "          40      0.566     0.521     0.543       140\n",
      "          41      0.627     0.686     0.655       140\n",
      "          42      0.581     0.564     0.572       140\n",
      "          43      0.604     0.643     0.623       140\n",
      "          44      0.535     0.486     0.509       140\n",
      "          45      0.503     0.543     0.522       140\n",
      "          46      0.739     0.850     0.791       140\n",
      "          47      0.683     0.693     0.688       140\n",
      "          48      0.662     0.657     0.659       140\n",
      "          49      0.787     0.686     0.733       140\n",
      "          50      0.552     0.529     0.540       140\n",
      "          51      0.630     0.743     0.682       140\n",
      "          52      0.822     0.857     0.839       140\n",
      "          53      0.715     0.629     0.669       140\n",
      "          54      0.640     0.636     0.638       140\n",
      "          55      0.658     0.536     0.591       140\n",
      "          56      0.730     0.714     0.722       140\n",
      "          57      0.697     0.657     0.676       140\n",
      "          58      0.490     0.521     0.505       140\n",
      "          59      0.795     0.750     0.772       140\n",
      "          60      0.799     0.850     0.824       140\n",
      "          61      0.679     0.664     0.671       140\n",
      "          62      0.719     0.821     0.767       140\n",
      "          63      0.630     0.571     0.599       140\n",
      "          64      0.562     0.521     0.541       140\n",
      "          65      0.538     0.507     0.522       140\n",
      "          66      0.570     0.579     0.574       140\n",
      "          67      0.564     0.600     0.581       140\n",
      "          68      0.641     0.650     0.645       140\n",
      "          69      0.599     0.671     0.633       140\n",
      "          70      0.580     0.543     0.561       140\n",
      "          71      0.615     0.593     0.604       140\n",
      "\n",
      "    accuracy                          0.639     10080\n",
      "   macro avg      0.639     0.639     0.637     10080\n",
      "weighted avg      0.639     0.639     0.637     10080\n",
      "\n"
     ]
    },
    {
     "data": {
      "image/png": "[encoded data removed]",
      "text/plain": [
       "<Figure size 1000x800 with 2 Axes>"
      ]
     },
     "metadata": {},
     "output_type": "display_data"
    }
   ],
   "source": [
    "# 2️⃣ 加载模型权重\n",
    "device = torch.device(\"cuda\" if torch.cuda.is_available() else \"cpu\")\n",
    "model = model = SoundLocalizationModel(num_classes=72, input_channels_per_cue=32, conv_channels=64, kernel_size=5,\n",
    "                               stride=1, num_layers=2, embed_dim=64, num_heads=4, use_batchnorm=True).to(device)\n",
    "model_path = r\"C:\\Users\\TIANY1\\OneDrive - Trinity College Dublin\\Documents\\SoundSourceLocalization\\checkpoints\\epoch_39.pth\"\n",
    "\n",
    "checkpoint = torch.load(model_path, map_location=device)\n",
    "model.load_state_dict(checkpoint[\"model_state_dict\"])\n",
    "model.eval()\n",
    "\n",
    "# 3️⃣ 准备测试集\n",
    "val_path = r\"C:\\Users\\TIANY1\\OneDrive - Trinity College Dublin\\Documents\\SoundSourceLocalization\\features\"\n",
    "val_dataset = BinauralCueDataset(val_path, audio_ids=range(561, 701))\n",
    "val_loader = torch.utils.data.DataLoader(val_dataset, batch_size=32, shuffle=False)\n",
    "\n",
    "# 4️⃣ 推理并收集预测\n",
    "all_preds, all_labels = [], []\n",
    "\n",
    "with torch.no_grad():\n",
    "    for X, y in val_loader:\n",
    "        X, y = X.to(device), y.to(device)\n",
    "        outputs = model(X)\n",
    "        preds = outputs.argmax(dim=1)\n",
    "        all_preds.extend(preds.cpu().numpy())\n",
    "        all_labels.extend(y.cpu().numpy())\n",
    "\n",
    "all_preds = np.array(all_preds)\n",
    "all_labels = np.array(all_labels)\n",
    "\n",
    "accuracy = np.mean(all_preds == all_labels)\n",
    "print(f\"🎯 Top-1 Accuracy: {accuracy * 100:.2f}%\")\n",
    "\n",
    "def mean_class_accuracy(y_true, y_pred, num_classes=72):\n",
    "    class_accs = []\n",
    "    for cls in range(num_classes):\n",
    "        cls_mask = (y_true == cls)\n",
    "        if cls_mask.sum() == 0: continue\n",
    "        acc = (y_pred[cls_mask] == y_true[cls_mask]).sum() / cls_mask.sum()\n",
    "        class_accs.append(acc)\n",
    "    return np.mean(class_accs)\n",
    "\n",
    "mean_acc = mean_class_accuracy(all_labels, all_preds)\n",
    "print(f\"📊 Mean Accuracy per Class: {mean_acc * 100:.2f}%\")\n",
    "\n",
    "from sklearn.metrics import classification_report\n",
    "print(classification_report(all_labels, all_preds, digits=3))\n",
    "\n",
    "cm = confusion_matrix(all_labels, all_preds)\n",
    "plt.figure(figsize=(10, 8))\n",
    "sns.heatmap(cm, cmap=\"Blues\")\n",
    "plt.title(\"Confusion Matrix\")\n",
    "plt.xlabel(\"Predicted\")\n",
    "plt.ylabel(\"True\")\n",
    "plt.show()\n",
    "\n"
   ]
  }
 ],
 "metadata": {
  "kernelspec": {
   "display_name": "base",
   "language": "python",
   "name": "python3"
  },
  "language_info": {
   "codemirror_mode": {
    "name": "ipython",
    "version": 3
   },
   "file_extension": ".py",
   "mimetype": "text/x-python",
   "name": "python",
   "nbconvert_exporter": "python",
   "pygments_lexer": "ipython3",
   "version": "3.12.9"
  }
 },
 "nbformat": 4,
 "nbformat_minor": 2
}
