{
 "cells": [
  {
   "cell_type": "code",
   "execution_count": 1,
   "metadata": {},
   "outputs": [
    {
     "ename": "",
     "evalue": "",
     "output_type": "error",
     "traceback": [
      "\u001b[1;31m在当前单元格或上一个单元格中执行代码时 Kernel 崩溃。\n",
      "\u001b[1;31m请查看单元格中的代码，以确定故障的可能原因。\n",
      "\u001b[1;31m单击<a href='https://aka.ms/vscodeJupyterKernelCrash'>此处</a>了解详细信息。\n",
      "\u001b[1;31m有关更多详细信息，请查看 Jupyter <a href='command:jupyter.viewOutput'>log</a>。"
     ]
    }
   ],
   "source": [
    "import os\n",
    "import numpy as np\n",
    "import torch\n",
    "from torch.utils.data import Dataset \n",
    "import re\n",
    "\n",
    "class BinauralCueDataset(Dataset):\n",
    "    def __init__(self, npz_dir, audio_ids=range(1, 101)):\n",
    "        self.dir = npz_dir\n",
    "        pattern = re.compile(r'main_audio_(\\d+)_azi(\\d+)\\.npz')\n",
    "        self.files = []\n",
    "        for f in os.listdir(npz_dir):\n",
    "            if f.endswith('.npz'):\n",
    "                match = pattern.match(f)\n",
    "                if match and int(match.group(1)) in audio_ids:\n",
    "                    self.files.append(f)\n",
    "        self.files.sort()\n",
    "\n",
    "    def __len__(self):\n",
    "        return len(self.files)\n",
    "\n",
    "    def __getitem__(self, idx):\n",
    "        path = os.path.join(self.dir, self.files[idx])\n",
    "        data = np.load(path)\n",
    "        itd = data[\"itd\"].astype(np.float32)\n",
    "        ild = data[\"ild\"].astype(np.float32)\n",
    "        ic = data[\"ic\"].astype(np.float32)\n",
    "\n",
    "        cue = np.stack([itd, ild, ic], axis=0)  # [3, filters, frames]\n",
    "\n",
    "        # 提取 azimuth label\n",
    "        azimuth = int(re.search(r'azi(\\d+)', self.files[idx]).group(1))\n",
    "        label = azimuth // 5  # 共72类（0-71）\n",
    "\n",
    "        return cue, label\n"
   ]
  }
 ],
 "metadata": {
  "kernelspec": {
   "display_name": "base",
   "language": "python",
   "name": "python3"
  },
  "language_info": {
   "codemirror_mode": {
    "name": "ipython",
    "version": 3
   },
   "file_extension": ".py",
   "mimetype": "text/x-python",
   "name": "python",
   "nbconvert_exporter": "python",
   "pygments_lexer": "ipython3",
   "version": "3.12.9"
  }
 },
 "nbformat": 4,
 "nbformat_minor": 2
}
